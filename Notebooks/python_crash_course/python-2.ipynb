{
 "metadata": {
  "language_info": {
   "codemirror_mode": {
    "name": "ipython",
    "version": 3
   },
   "file_extension": ".py",
   "mimetype": "text/x-python",
   "name": "python",
   "nbconvert_exporter": "python",
   "pygments_lexer": "ipython3",
   "version": "3.7.4-final"
  },
  "orig_nbformat": 2,
  "kernelspec": {
   "name": "python_defaultSpec_1601224152368",
   "display_name": "Python 3.7.4 64-bit ('base': conda)"
  }
 },
 "nbformat": 4,
 "nbformat_minor": 2,
 "cells": [
  {
   "cell_type": "markdown",
   "metadata": {},
   "source": [
    "# Python Crash Course- Part 2\n",
    "---\n",
    "\n",
    "As a quick recap, in the last part of our Python crash course, we covered the built-in data types in python. In this part of our tutorial, we will be focusing on the below mentioned topics.\n",
    "* Operators in Python\n",
    "    * Arithmetic operators\n",
    "    * Comparison operators\n",
    "    * Logical operators\n",
    "* Conditional statements (**if**, **else**, **elif**)\n",
    "* range\n",
    "* **for** and **while** loops\n",
    "\n",
    "Let us get started. First we will have a look at the different kinds of operators to perform various arithmetic and logical operations in Python.\n",
    "\n",
    "## OPERATORS IN PYTHON\n",
    "---\n",
    "\n",
    "The first operator type we will see are the arithmetic operators in Python. These allow us to perform various arithmentic operations, such as addition, subtraction, multiplication, division, etc.\n",
    "\n",
    "### A. Arithmetic Operators\n",
    "---\n",
    "The following table shows the different arithmetic operators in in Python-\n",
    "\n",
    "| Operator | Description                                              |\n",
    "|----------|----------------------------------------------------------|\n",
    "| +        | **addition**; used to add two values/variables      |\n",
    "| -        | **subtraction**; used to subtract two values/variables       |\n",
    "| *        | **multiplication**; used to multiply two values/variables    |\n",
    "| /        | **division**; used to perform the division operation         |\n",
    "| %        | **modulus**; returns remainder of division operation         |\n",
    "| //       | **floor division**; returns quotient of division operation   |\n",
    "| **       | **exponentiation**; used to perform exponentiation operation |\n",
    "\n",
    "Let us understand these with the help of some examples."
   ]
  },
  {
   "cell_type": "code",
   "execution_count": 1,
   "metadata": {
    "tags": []
   },
   "outputs": [
    {
     "output_type": "stream",
     "name": "stdout",
     "text": "6.9\n"
    }
   ],
   "source": [
    "# addition\n",
    "a = 4.5\n",
    "b = 2.4\n",
    "print(a + b)"
   ]
  },
  {
   "cell_type": "code",
   "execution_count": 2,
   "metadata": {
    "tags": []
   },
   "outputs": [
    {
     "output_type": "stream",
     "name": "stdout",
     "text": "-2\n"
    }
   ],
   "source": [
    "# subtraction\n",
    "a = 5\n",
    "b = 7\n",
    "print(a - b)"
   ]
  },
  {
   "cell_type": "code",
   "execution_count": 3,
   "metadata": {
    "tags": []
   },
   "outputs": [
    {
     "output_type": "stream",
     "name": "stdout",
     "text": "8\n"
    }
   ],
   "source": [
    "# multiplication\n",
    "a = 4\n",
    "b = 2\n",
    "print(a * b)"
   ]
  },
  {
   "cell_type": "code",
   "execution_count": 4,
   "metadata": {
    "tags": []
   },
   "outputs": [
    {
     "output_type": "stream",
     "name": "stdout",
     "text": "1.3333333333333333\n"
    }
   ],
   "source": [
    "# division\n",
    "a = 8\n",
    "b = 6\n",
    "print(a / b)"
   ]
  },
  {
   "cell_type": "code",
   "execution_count": 5,
   "metadata": {
    "tags": []
   },
   "outputs": [
    {
     "output_type": "stream",
     "name": "stdout",
     "text": "2\n"
    }
   ],
   "source": [
    "# modulus\n",
    "a = 8\n",
    "b = 6\n",
    "print(a % b)"
   ]
  },
  {
   "cell_type": "code",
   "execution_count": 6,
   "metadata": {
    "tags": []
   },
   "outputs": [
    {
     "output_type": "stream",
     "name": "stdout",
     "text": "1\n"
    }
   ],
   "source": [
    "# floor division\n",
    "a = 8\n",
    "b = 6\n",
    "print(a // b)"
   ]
  },
  {
   "cell_type": "code",
   "execution_count": 7,
   "metadata": {
    "tags": []
   },
   "outputs": [
    {
     "output_type": "stream",
     "name": "stdout",
     "text": "8\n"
    }
   ],
   "source": [
    "# exponentiation\n",
    "a = 2\n",
    "b = 3\n",
    "print(a ** b)"
   ]
  },
  {
   "cell_type": "markdown",
   "metadata": {},
   "source": [
    "Now, let us have a look at the most commonly used assignment operators in Python.\n",
    "\n",
    "### B. Assignment Operators\n",
    "---\n",
    "The assignment operators, as the name suggests, are used to assign values to variable. The following table shows the list of the most commonly used assignment operators in Python-\n",
    "\n",
    "| Operator | Description                                |\n",
    "|----------|--------------------------------------------|\n",
    "| =        | Basic assignment operator; **var = value** |\n",
    "| +=       | Same as **var = var + value**              |\n",
    "| -=       | Same as **var = var - value**              |\n",
    "| *=       | Same as **var = var * value**              |\n",
    "| /=       | Same as **var = var / value**              |\n",
    "| %=       | Same as **var = var % value**              |\n",
    "| //=      | Same as **var = var // value**             |\n",
    "| **=      | Same as **var = var \\*\\* value**           |\n",
    "\n",
    "Let us understand the use of these operators with the help of some examples."
   ]
  },
  {
   "cell_type": "code",
   "execution_count": 8,
   "metadata": {
    "tags": []
   },
   "outputs": [
    {
     "output_type": "stream",
     "name": "stdout",
     "text": "python\n"
    }
   ],
   "source": [
    "# = operator\n",
    "a = 'python'\n",
    "print(a)"
   ]
  },
  {
   "cell_type": "code",
   "execution_count": 9,
   "metadata": {
    "tags": []
   },
   "outputs": [
    {
     "output_type": "stream",
     "name": "stdout",
     "text": "6\n4\n16\n8.0\n32768.0\n8.0\n4.0\n"
    }
   ],
   "source": [
    "a = 5\n",
    "\n",
    "# += operator\n",
    "a += 1 # a = a + 1 \n",
    "print(a) \n",
    "\n",
    "# -= operator\n",
    "a -= 2 # a = a - 2 \n",
    "print(a) # \n",
    "\n",
    "# *= operator\n",
    "a *= 4 # a = a * 4\n",
    "print(a)\n",
    "\n",
    "# /= operator\n",
    "a /= 2 # a = a / 2 \n",
    "print(a)\n",
    "\n",
    "# **= operator\n",
    "a **= 5 # a = a ** 5 \n",
    "print(a)\n",
    "\n",
    "# %= operator\n",
    "a %= 9 # a = a % 9 \n",
    "print(a)\n",
    "\n",
    "# //= operator\n",
    "a //= 2 # a = a // 3\n",
    "print(a)"
   ]
  },
  {
   "cell_type": "markdown",
   "metadata": {},
   "source": [
    "Now, let us have a look at the different comparison operators in Python.\n",
    "\n",
    "### C. Comparison operators\n",
    "---\n",
    "As the name suggests, comparison operators are used for comparison of values and variables. Python has the following comparison operators-\n",
    "\n",
    "| Operator | Description                                                      |\n",
    "|----------|------------------------------------------------------------------|\n",
    "| ==       | equality operator; return bool True if 2 values are equal        |\n",
    "| !=       | inequality operator; return True if 2 values are not equal       |\n",
    "| >        | greater-than operator; returns True if value on left is greater  |\n",
    "| <        | smaller-than operator; returns True if value on left is smaller  |\n",
    "| >=       | greater-than-or-equal-to operator                                |\n",
    "| <=       | less-than-or-equal-to operator                                   |\n",
    "\n",
    "Let us see a few examples. "
   ]
  },
  {
   "cell_type": "code",
   "execution_count": 10,
   "metadata": {
    "tags": []
   },
   "outputs": [
    {
     "output_type": "stream",
     "name": "stdout",
     "text": "True\n"
    }
   ],
   "source": [
    "print(5 > 3)"
   ]
  },
  {
   "cell_type": "code",
   "execution_count": 11,
   "metadata": {
    "tags": []
   },
   "outputs": [
    {
     "output_type": "stream",
     "name": "stdout",
     "text": "False\n"
    }
   ],
   "source": [
    "print(5 > 6)"
   ]
  },
  {
   "cell_type": "code",
   "execution_count": 12,
   "metadata": {
    "tags": []
   },
   "outputs": [
    {
     "output_type": "stream",
     "name": "stdout",
     "text": "True\n"
    }
   ],
   "source": [
    "print(5 <= 6) # 5 is less that 6, hence <= will evaluate to True"
   ]
  },
  {
   "cell_type": "code",
   "execution_count": 13,
   "metadata": {
    "tags": []
   },
   "outputs": [
    {
     "output_type": "stream",
     "name": "stdout",
     "text": "True\n"
    }
   ],
   "source": [
    "a = 5\n",
    "b = 5\n",
    "print(a == b)"
   ]
  },
  {
   "cell_type": "markdown",
   "metadata": {},
   "source": [
    "Upon comparing strings, list, or other subsciptable data types, the values at each index are evaluated individually. If all the values evaluate to True, then only the final result is True, else it is False. "
   ]
  },
  {
   "cell_type": "code",
   "execution_count": 14,
   "metadata": {
    "tags": []
   },
   "outputs": [
    {
     "output_type": "stream",
     "name": "stdout",
     "text": "True\n"
    }
   ],
   "source": [
    "# comparing 2 strings compares individual characters for each index\n",
    "a = 'example'\n",
    "b = 'example'\n",
    "print(a == b)"
   ]
  },
  {
   "cell_type": "code",
   "execution_count": 15,
   "metadata": {
    "tags": []
   },
   "outputs": [
    {
     "output_type": "stream",
     "name": "stdout",
     "text": "False\n"
    }
   ],
   "source": [
    "a = 'this'\n",
    "b = 'that'\n",
    "print(a == b)"
   ]
  },
  {
   "cell_type": "code",
   "execution_count": 16,
   "metadata": {
    "tags": []
   },
   "outputs": [
    {
     "output_type": "stream",
     "name": "stdout",
     "text": "True\n"
    }
   ],
   "source": [
    "# comapring 2 lists with not-equal operator\n",
    "print([1,2,3] != [3,2,1]) # value at every index not equal"
   ]
  },
  {
   "cell_type": "markdown",
   "metadata": {},
   "source": [
    "In case of non-subscriptable data types like sets, in order for 2 sets to be equal, they should contain the same elements. The order of elements does not matter."
   ]
  },
  {
   "cell_type": "code",
   "execution_count": 17,
   "metadata": {
    "tags": []
   },
   "outputs": [
    {
     "output_type": "stream",
     "name": "stdout",
     "text": "True\n"
    }
   ],
   "source": [
    "a = {3,1,2}\n",
    "b = {1,2,3}\n",
    "print(a == b)"
   ]
  },
  {
   "cell_type": "markdown",
   "metadata": {},
   "source": [
    "#### Uses of comparison operators-\n",
    "* Checking if 2 strings are equal or not (eg.- While checking passwords)\n",
    "* Comparing if 2 or more numbers are equal or not, greater or smaller etc.\n",
    "* Comparison operation play a key role in looping operations for termination of loops. We will understand what are loops in a later section.\n",
    "\n",
    "Let us now move onto our next topic.\n",
    "\n",
    "### D. Logical operators\n",
    "---\n",
    "There are 3 logical operators in Python, as shown in the table below.\n",
    "\n",
    "| Operator | Description                                                                             |\n",
    "|----------|-----------------------------------------------------------------------------------------|\n",
    "| and      | True if both conditions to left and right side of the operator are True                 |\n",
    "| or       | True if at least 1 condition is True                                                    |\n",
    "| not      | reverses the condition; if the statement is True, returns False; if False, returns True |\n",
    "\n",
    "Let us understand with the help of some examples."
   ]
  },
  {
   "cell_type": "code",
   "execution_count": 18,
   "metadata": {
    "tags": []
   },
   "outputs": [
    {
     "output_type": "stream",
     "name": "stdout",
     "text": "True\nFalse\n"
    }
   ],
   "source": [
    "a = 3\n",
    "b = 4\n",
    "c = 2\n",
    "\n",
    "print((a < b) and (b > c)) # both condition True; hence will print True\n",
    "\n",
    "print((a == b) and (b > c)) # left statement false, hence False"
   ]
  },
  {
   "cell_type": "code",
   "execution_count": 19,
   "metadata": {
    "tags": []
   },
   "outputs": [
    {
     "output_type": "stream",
     "name": "stdout",
     "text": "False\nTrue\n"
    }
   ],
   "source": [
    "a = 3.3\n",
    "b = 4.1\n",
    "c = 2.9\n",
    "\n",
    "print((a == b) and (b > c)) # left statement false, hence False\n",
    "\n",
    "print((a == b) or (b > c)) # right statement True; hence or logical operator returns True"
   ]
  },
  {
   "cell_type": "markdown",
   "metadata": {
    "tags": []
   },
   "source": [
    "a = True\n",
    "b = False\n",
    "print(not a)\n",
    "print(not b)"
   ]
  },
  {
   "cell_type": "code",
   "execution_count": 21,
   "metadata": {},
   "outputs": [
    {
     "output_type": "execute_result",
     "data": {
      "text/plain": "True"
     },
     "metadata": {},
     "execution_count": 21
    }
   ],
   "source": [
    "a = 'python'\n",
    "b = 'c++'\n",
    "\n",
    "not (a == b) # a != b, hence statement False, but not will make the result True"
   ]
  },
  {
   "cell_type": "markdown",
   "metadata": {},
   "source": [
    "## CONDITIONAL STATEMENTS\n",
    "---\n",
    "\n",
    "The main purpose of conditional statement is to check for a particular condition, and if the condition evaluates to __True__, then the block of code inside the conditional statement is executed.\n",
    "\n",
    "There are 3 types of conditional statements in Python-\n",
    "> 1. __if__ statement\n",
    "> 2. __elif__ statement\n",
    "> 3. __else__ statement\n",
    "\n",
    "### A. if statement\n",
    "---\n",
    "\n",
    "The following is the syntax of if conditional statement-\n",
    "> if(condition):\n",
    ">> #code here\n",
    "\n",
    "If the condition returns a boolean True, then the code inside the if block executes, otherwise nothing happens. Let us understand this with some examples."
   ]
  },
  {
   "cell_type": "code",
   "execution_count": 22,
   "metadata": {
    "tags": []
   },
   "outputs": [
    {
     "output_type": "stream",
     "name": "stdout",
     "text": "1 is less than 2.\n"
    }
   ],
   "source": [
    "if(1 < 2):\n",
    "    #code to be executed if True\n",
    "    print('1 is less than 2.')"
   ]
  },
  {
   "cell_type": "code",
   "execution_count": 23,
   "metadata": {
    "tags": []
   },
   "outputs": [
    {
     "output_type": "stream",
     "name": "stdout",
     "text": "They are not equal\n"
    }
   ],
   "source": [
    "str1 = 'python'\n",
    "str2 = 'machine'\n",
    "\n",
    "str3 = \"They are not equal\"\n",
    "\n",
    "if(str1 == str2): # str1 != str2; hence False\n",
    "    str3 = \"These are equal\"\n",
    "\n",
    "print(str3)"
   ]
  },
  {
   "cell_type": "markdown",
   "metadata": {},
   "source": [
    "### B. else statement\n",
    "---\n",
    "\n",
    "else is the default fallback statement in Python. If the condition of the if-statement (and the elif-statements) evaluates to False, then by default, the code block within the else statement is executed. \n",
    "\n",
    "__NOTE__- For else statement, there is no need to specify a condition. This is because the purpose of the else conditional statement is to execute a code if all other conditional statements are False.\n",
    "\n",
    "Let us understand this with an example."
   ]
  },
  {
   "cell_type": "code",
   "execution_count": 24,
   "metadata": {
    "tags": []
   },
   "outputs": [
    {
     "output_type": "stream",
     "name": "stdout",
     "text": "1 is smaller\n"
    }
   ],
   "source": [
    "if (1 > 2):\n",
    "    print('1 is greater than 2')\n",
    "else:\n",
    "    print('1 is smaller')"
   ]
  },
  {
   "cell_type": "markdown",
   "metadata": {},
   "source": [
    "As we can see, the if conditional evaluated to False. As a result, the code within the else block was executed. "
   ]
  },
  {
   "cell_type": "code",
   "execution_count": 25,
   "metadata": {
    "tags": []
   },
   "outputs": [
    {
     "output_type": "stream",
     "name": "stdout",
     "text": "if block executed\n"
    }
   ],
   "source": [
    "bool1 = True\n",
    "\n",
    "if (bool1): # we are passing a True bool to the if statement\n",
    "    print(\"if block executed\")\n",
    "else:\n",
    "    print('else block executed')"
   ]
  },
  {
   "cell_type": "markdown",
   "metadata": {},
   "source": [
    "As you can see, the if-block was passed a True value. Hence the if-block executed. Since the if-block executed, there was no need to execute the else block."
   ]
  },
  {
   "cell_type": "markdown",
   "metadata": {},
   "source": [
    "### C. elif statements\n",
    "---\n",
    "\n",
    "The 'elif' stands for 'else if'. The elif-statement is used if there are more than just one condition to check for. If the if-statement evaluates to False, then if an elif conditional statement is present, then those will be checked for.\n",
    "\n",
    "The following syntax represents how elif statments can be used-\n",
    "> if (condition1):\n",
    ">> \\# code here\n",
    "\n",
    "> elif (condition2):\n",
    ">> \\# code here\n",
    "\n",
    "> elif (condition3):\n",
    ">> \\# code here\n",
    "\n",
    "> else:\n",
    ">> \\# fallback code\n",
    "\n",
    "There can be only 1 if-statement and 1 else-statement at the same level, but there can be N-number of elif statements, based on the number of conditions that need to be evaluated.\n",
    "\n",
    "Let us see and example for elif statements."
   ]
  },
  {
   "cell_type": "code",
   "execution_count": 26,
   "metadata": {
    "tags": []
   },
   "outputs": [
    {
     "output_type": "stream",
     "name": "stdout",
     "text": "Grade of student = C\n"
    }
   ],
   "source": [
    "marks = 75\n",
    "\n",
    "if (marks >= 90):\n",
    "    grade = 'A'\n",
    "elif (marks >= 80 and marks < 90):\n",
    "    grade = 'B'\n",
    "elif (marks >= 70 and marks < 80):\n",
    "    grade = 'C'  \n",
    "else:\n",
    "    grade = 'F'\n",
    "\n",
    "print('Grade of student = {}'.format(grade)) "
   ]
  },
  {
   "cell_type": "markdown",
   "metadata": {},
   "source": [
    "The above given code executed in the following way-\n",
    "\n",
    "1. marks = 75. Therefore, if-statement's condition (marks are greated-than-or-equal-to 90) evaluated to False.\n",
    "\n",
    "2. marks are not between 80-90 (i.e., greater-than-or-equal-to 80 and smaller-than 90). Hence first elif-statement evaluated to False.\n",
    "\n",
    "3. marks are between 70-80 (since marks = 75). Hence condition evaluated to True. The variable 'grade' is assigned the value 'C'. No need to execute else-block.\n",
    "\n",
    "4. Finally the print-function is executed.\n",
    "\n",
    "Now that we know the basics of conditional statements, let us have a look at nested-conditional statements. \n",
    "\n",
    "### D. Nested Conditional statements\n",
    "---\n",
    "\n",
    "By nested conditional statements, we mean conditional statements within the conditional statements. Let us skip directly to the examples to understand this."
   ]
  },
  {
   "cell_type": "code",
   "execution_count": 27,
   "metadata": {
    "tags": []
   },
   "outputs": [
    {
     "output_type": "stream",
     "name": "stdout",
     "text": "Child else-statement executed\n"
    }
   ],
   "source": [
    "num1 = 5\n",
    "num2 = 7\n",
    "num3 = 2\n",
    "\n",
    "if (num1 < num2):\n",
    "    # another conditional statement within the parent if-statement \n",
    "    if (num3 > num2):\n",
    "        print('Child if-statement executed')\n",
    "    else:\n",
    "        print('Child else-statement executed')\n",
    "else:\n",
    "    print('Parent else-statement executed')"
   ]
  },
  {
   "cell_type": "markdown",
   "metadata": {},
   "source": [
    "The following chain of events occured in the code given above-\n",
    "\n",
    "1. First, the if-block's condition was checked. It evaluated to True. So, the code inside the if-statement started executing.\n",
    "\n",
    "Within the first if-statement (the parent if-statement), there is another set of conditional statements. These conditional statements are known as child conditional statements.\n",
    "\n",
    "2. The child-if-statement evaluated to False, hence the fallback child-else-statement was executed. No need to execute the parent-else statement.\n",
    "\n",
    "We have covered the basics of conditional statements. Now let us move on to the next part.\n",
    "\n",
    "## RANGE FUNCTION\n",
    "---\n",
    "The range function returns an object that is an iterable sequence of integers. By default, this sequence ranges from 0 to the number specified, and the step size is 1. The following is the syntax for the range function-\n",
    "> range(start = 0, stop = value, step = 1), where,\n",
    "* start -> Integer value that specifies the starting integer of the sequence\n",
    "* stop -> Right upper bound of the integer sequence\n",
    "* step -> The number of elements to skip between each value in the integer sequence\n",
    "\n",
    "Now let us see with the help of an example."
   ]
  },
  {
   "cell_type": "code",
   "execution_count": 28,
   "metadata": {},
   "outputs": [
    {
     "output_type": "execute_result",
     "data": {
      "text/plain": "range(0, 10)"
     },
     "metadata": {},
     "execution_count": 28
    }
   ],
   "source": [
    "range(10)"
   ]
  },
  {
   "cell_type": "markdown",
   "metadata": {},
   "source": [
    "Typecasting a range object to a list returns a list of all the integers in the range function object. "
   ]
  },
  {
   "cell_type": "code",
   "execution_count": 29,
   "metadata": {
    "tags": []
   },
   "outputs": [
    {
     "output_type": "stream",
     "name": "stdout",
     "text": "[0, 1, 2, 3, 4, 5, 6, 7, 8, 9]\n"
    }
   ],
   "source": [
    "a = range(10)\n",
    "\n",
    "# typecasting a range function object to a list\n",
    "print(list(a))"
   ]
  },
  {
   "cell_type": "code",
   "execution_count": 30,
   "metadata": {
    "tags": []
   },
   "outputs": [
    {
     "output_type": "stream",
     "name": "stdout",
     "text": "range(10, 20, 2)\n[10, 12, 14, 16, 18]\n"
    }
   ],
   "source": [
    "a = range(10, 20, 2)\n",
    "print(a)\n",
    "\n",
    "# typecasting a range function object to a list\n",
    "print(list(a))"
   ]
  },
  {
   "cell_type": "markdown",
   "metadata": {},
   "source": [
    "The range function plays a very important role in loops in Python. Let us now move on to the next section where we will be studying about loops in Python.\n",
    "\n",
    "## LOOPING STATEMENTS (LOOPS)\n",
    "---\n",
    "In terms of general English language, a loop can be thought of a circular object, which, if you start traversing the edge of from one point, you can go on tracing the edge forever without stopping. \n",
    "\n",
    "In Python, the looping statements are based on the same principle. The aim of the looping statements is to continue executing a block of code as long as a certain conditional criteria evaluated as True.\n",
    "\n",
    "There are two built-in looping statements in Python.\n",
    "\n",
    "* while loops\n",
    "* for loops\n",
    "\n",
    "We will understand both of these one by one. Let us begin with the While loop.\n",
    "\n",
    "### A. While Loop\n",
    "\n",
    "The __while__ loop executes a set of statements as long as a specified condition is True. Let us see a while loop in action."
   ]
  },
  {
   "cell_type": "code",
   "execution_count": 31,
   "metadata": {
    "tags": []
   },
   "outputs": [
    {
     "output_type": "stream",
     "name": "stdout",
     "text": "0\n1\n2\n3\n4\n5\n"
    }
   ],
   "source": [
    "num = 0\n",
    "\n",
    "while num < 6:\n",
    "    print(num) # printing the value of num\n",
    "    num += 1 # incrementing/increasing the value of num by 1"
   ]
  },
  {
   "cell_type": "markdown",
   "metadata": {},
   "source": [
    "As we can see, as long as the value of the variable 'num' is less than 6, the code in the indented block keeps getting executed. \n",
    "\n",
    "### B. For Loops\n",
    "Now, the for loop is different from the while loop in the sense that the for loop iterates through a given sequence, and executes the code within as long as there are items within the sequence. Let us see an example. "
   ]
  },
  {
   "cell_type": "code",
   "execution_count": 32,
   "metadata": {
    "tags": []
   },
   "outputs": [
    {
     "output_type": "stream",
     "name": "stdout",
     "text": "Value of i = 0\nValue of i = 1\nValue of i = 2\nValue of i = 3\nValue of i = 4\nValue of i = 5\nValue of i = 6\nValue of i = 7\nValue of i = 8\nValue of i = 9\n"
    }
   ],
   "source": [
    "# the value of i automatically iterates from 0-10 (10 not included)\n",
    "for i in range(10):\n",
    "    print('Value of i =',i)\n"
   ]
  },
  {
   "cell_type": "code",
   "execution_count": 33,
   "metadata": {
    "tags": []
   },
   "outputs": [
    {
     "output_type": "stream",
     "name": "stdout",
     "text": "a\nb\nc\nd\ne\n"
    }
   ],
   "source": [
    "list1 = ['a', 'b', 'c', 'd', 'e']\n",
    "\n",
    "for item in list1: # iterating through the list\n",
    "    print(item)"
   ]
  },
  {
   "cell_type": "markdown",
   "metadata": {},
   "source": [
    "### C. break statement\n",
    "\n",
    "#### As we read earlier, the while loop will keep running for an infinite number of times as long as its conditio evaluates to True. To prevent an infinite loop, we must specify a termination condition.\n",
    "\n",
    "For termination of a loop, we use either one of the 2 options given below-\n",
    "\n",
    "1. Specifying a termination condition, for example in the code given above, we specified that the while block must execute as long as variable 'num' was less than 6. We also kept increasing the value of 'num' so that it reached the termination condition where __num == 6__.\n",
    "\n",
    "2. __break statement__: With the break statement we can stop the loop even if the while condition is true.\n",
    "\n",
    "Let us understand the break statement with an example."
   ]
  },
  {
   "cell_type": "code",
   "execution_count": 34,
   "metadata": {
    "tags": []
   },
   "outputs": [
    {
     "output_type": "stream",
     "name": "stdout",
     "text": "Loop number = 1\nLoop number = 2\nLoop number = 3\nLoop number = 4\nLoop number = 5\nLoop number = 6\nLoop number = 7\nLoop number = 8\nLoop number = 9\n"
    }
   ],
   "source": [
    "num = 1\n",
    "while True: # we are deliberately specifying a infinite loop condition\n",
    "    print('Loop number =', num)\n",
    "    num += 1\n",
    "    if num == 10:\n",
    "        break # if the value of num becomes 10, loop will terminate"
   ]
  },
  {
   "cell_type": "code",
   "execution_count": 35,
   "metadata": {
    "tags": []
   },
   "outputs": [
    {
     "output_type": "stream",
     "name": "stdout",
     "text": "i = 0\ni = 1\ni = 2\ni = 3\ni = 4\n"
    }
   ],
   "source": [
    "for i in range(10):\n",
    "    if i == 5: # loop will terminate when i == 5\n",
    "        break\n",
    "    else:\n",
    "        print('i =', i)"
   ]
  },
  {
   "cell_type": "markdown",
   "metadata": {},
   "source": [
    "### D. continue statement\n",
    "The continue statement is used to skip an iteration or the execution of rest of the code block within the loop. Let us understand this with some examples."
   ]
  },
  {
   "cell_type": "code",
   "execution_count": 37,
   "metadata": {
    "tags": []
   },
   "outputs": [
    {
     "output_type": "stream",
     "name": "stdout",
     "text": "i = 1\ni = 2\ni = 4\ni = 5\ni = 6\n"
    }
   ],
   "source": [
    "i = 0\n",
    "while i < 6:\n",
    "  i += 1\n",
    "  if i == 3:\n",
    "    continue\n",
    "  print('i =', i)"
   ]
  },
  {
   "cell_type": "code",
   "execution_count": 40,
   "metadata": {
    "tags": []
   },
   "outputs": [
    {
     "output_type": "stream",
     "name": "stdout",
     "text": "i =  0\ni =  1\ni =  3\ni =  4\ni =  6\ni =  7\ni =  8\ni =  9\n"
    }
   ],
   "source": [
    "for i in range(10):\n",
    "    if i == 2 or i == 5: # if i is 2 or 5, nothing will be printed\n",
    "        continue\n",
    "    print('i = ', i)"
   ]
  },
  {
   "cell_type": "markdown",
   "metadata": {},
   "source": [
    "With this, we come to the end of the second part of our Python crash course tutorial. As a quick summary, we covered the different types of operators in Python- arithmetic operators, comparison operators and logical operators. After that, we covered the conditional statements in Python- if, elif and else statement. Then, we saw the range function, followed by loops in Python.\n",
    "\n",
    "## BONUS SECTION\n",
    "---\n",
    "\n",
    "This is a bonus section. This topics covered in this section are to improve your overall knowledge of Python and might help you become a better Python programmer. So let's get started.\n",
    "\n",
    "### Bonus-1: Order of Operations in Python\n",
    "---\n",
    "\n",
    "In case of arithmetic operations, the following is the order of arithmetic operations in Python-\n",
    "\n",
    "1. Paranthesis\n",
    "2. Exponentiation\n",
    "3. Division\n",
    "4. Multiplication\n",
    "5. Subtraction\n",
    "6. Addition\n",
    "\n",
    "Let us see some examples."
   ]
  },
  {
   "cell_type": "code",
   "execution_count": 5,
   "metadata": {},
   "outputs": [
    {
     "output_type": "execute_result",
     "data": {
      "text/plain": "4.0"
     },
     "metadata": {},
     "execution_count": 5
    }
   ],
   "source": [
    "(6*2)/3 # paranthesis open -> division"
   ]
  },
  {
   "cell_type": "code",
   "execution_count": 8,
   "metadata": {},
   "outputs": [
    {
     "output_type": "execute_result",
     "data": {
      "text/plain": "162.0"
     },
     "metadata": {},
     "execution_count": 8
    }
   ],
   "source": [
    "6**(5-2)/4*3 # paranthesis open -> exponentiation -> division -> multiplication"
   ]
  },
  {
   "cell_type": "code",
   "execution_count": 9,
   "metadata": {},
   "outputs": [
    {
     "output_type": "execute_result",
     "data": {
      "text/plain": "3.75"
     },
     "metadata": {},
     "execution_count": 9
    }
   ],
   "source": [
    "2*3/8-4+7 # division -> multiplication -> subtraction -> addition"
   ]
  },
  {
   "cell_type": "markdown",
   "metadata": {},
   "source": [
    "Another order of operation to be considered is that the assignment operation occurs from right to left. Let us see some examples for that as well."
   ]
  },
  {
   "cell_type": "code",
   "execution_count": 12,
   "metadata": {
    "tags": []
   },
   "outputs": [
    {
     "output_type": "stream",
     "name": "stdout",
     "text": "25\n"
    }
   ],
   "source": [
    "a = 23\n",
    "\n",
    "# 2 added to initial value of a, then new value assigned to a again\n",
    "a = a + 2\n",
    "\n",
    "print(a)"
   ]
  },
  {
   "cell_type": "markdown",
   "metadata": {},
   "source": [
    "### Bonus-2: Parallel Assignment and Value Unpacking\n",
    "---\n",
    "\n",
    "Value unpacking and parallel assignment are a rather unique assignment techniques in Python. \n",
    "\n",
    "The following is the syntax for parallel assignment-\n",
    "> var_1, var_2, var_3..., val_n = value_1, value_2, value_3..., value_n\n",
    "\n",
    "> These values unpack in and the assignment occurs in the following manner-\n",
    "\n",
    ">> var_1 = value_1\n",
    "\n",
    ">> var_2 = value_2\n",
    "\n",
    ">> var_3 = value_3\n",
    "\n",
    ">> var_n = value_n  \n",
    "\n",
    "Let's see some examples."
   ]
  },
  {
   "cell_type": "code",
   "execution_count": 15,
   "metadata": {
    "tags": []
   },
   "outputs": [
    {
     "output_type": "stream",
     "name": "stdout",
     "text": "1 2 3\n"
    }
   ],
   "source": [
    "a, b, c = 1, 2, 3\n",
    "\n",
    "print(a, b, c)"
   ]
  },
  {
   "cell_type": "markdown",
   "metadata": {},
   "source": [
    "One thing to be noted is that the total number of values to be unpacked on the right should be equal to the number of variable on the left. Otherwise, you will run into an error. Let us see this with an example.  "
   ]
  },
  {
   "cell_type": "code",
   "execution_count": 16,
   "metadata": {},
   "outputs": [
    {
     "output_type": "error",
     "ename": "ValueError",
     "evalue": "too many values to unpack (expected 2)",
     "traceback": [
      "\u001b[1;31m---------------------------------------------------------------------------\u001b[0m",
      "\u001b[1;31mValueError\u001b[0m                                Traceback (most recent call last)",
      "\u001b[1;32m<ipython-input-16-8904fd2ea925>\u001b[0m in \u001b[0;36m<module>\u001b[1;34m\u001b[0m\n\u001b[1;32m----> 1\u001b[1;33m \u001b[0ma\u001b[0m\u001b[1;33m,\u001b[0m \u001b[0mb\u001b[0m \u001b[1;33m=\u001b[0m \u001b[1;36m1\u001b[0m\u001b[1;33m,\u001b[0m \u001b[1;36m2\u001b[0m\u001b[1;33m,\u001b[0m \u001b[1;36m3\u001b[0m\u001b[1;33m\u001b[0m\u001b[1;33m\u001b[0m\u001b[0m\n\u001b[0m",
      "\u001b[1;31mValueError\u001b[0m: too many values to unpack (expected 2)"
     ]
    }
   ],
   "source": [
    "a, b = 1, 2, 3"
   ]
  },
  {
   "cell_type": "markdown",
   "metadata": {},
   "source": [
    "An interesting use of parallel assignment is swapping the values. Let us see how that can be done."
   ]
  },
  {
   "cell_type": "code",
   "execution_count": 14,
   "metadata": {
    "tags": []
   },
   "outputs": [
    {
     "output_type": "stream",
     "name": "stdout",
     "text": "a =  34 b = 56\na =  56 b = 34\n"
    }
   ],
   "source": [
    "a = 34\n",
    "b = 56\n",
    "\n",
    "# printing before swap\n",
    "print('a = ',a, 'b =',b)\n",
    "\n",
    "# swapping the value\n",
    "a, b = b, a \n",
    "\n",
    "# printing afer swap \n",
    "print('a = ',a, 'b =',b)"
   ]
  },
  {
   "cell_type": "markdown",
   "metadata": {},
   "source": [
    "Now, let us have a look at value unpacking. It works just like parallel assignment, however, instead of simple comma-seperated values on the right size of the assignment operator, we have a list-like data type (list, tuple, set etc.). Let us see some examples for this. "
   ]
  },
  {
   "cell_type": "code",
   "execution_count": 17,
   "metadata": {
    "tags": []
   },
   "outputs": [
    {
     "output_type": "stream",
     "name": "stdout",
     "text": "1 2 3\n"
    }
   ],
   "source": [
    "a, b, c = [1,2,3]\n",
    "\n",
    "print(a, b, c)"
   ]
  },
  {
   "cell_type": "code",
   "execution_count": 18,
   "metadata": {
    "tags": []
   },
   "outputs": [
    {
     "output_type": "stream",
     "name": "stdout",
     "text": "1 2 3\n"
    }
   ],
   "source": [
    "a, b, c = {1,2,3}\n",
    "\n",
    "print(a, b, c)"
   ]
  },
  {
   "cell_type": "code",
   "execution_count": 19,
   "metadata": {
    "tags": []
   },
   "outputs": [
    {
     "output_type": "stream",
     "name": "stdout",
     "text": "obj1 obj2 obj3\n"
    }
   ],
   "source": [
    "a, b, c = {'obj1': 1, 'obj2': 2, 'obj3': 3}\n",
    "\n",
    "print(a, b, c)"
   ]
  },
  {
   "cell_type": "code",
   "execution_count": 20,
   "metadata": {},
   "outputs": [
    {
     "output_type": "error",
     "ename": "ValueError",
     "evalue": "not enough values to unpack (expected 3, got 2)",
     "traceback": [
      "\u001b[1;31m---------------------------------------------------------------------------\u001b[0m",
      "\u001b[1;31mValueError\u001b[0m                                Traceback (most recent call last)",
      "\u001b[1;32m<ipython-input-20-8792369ca847>\u001b[0m in \u001b[0;36m<module>\u001b[1;34m\u001b[0m\n\u001b[0;32m      1\u001b[0m \u001b[1;31m# will result in an unpacking error\u001b[0m\u001b[1;33m\u001b[0m\u001b[1;33m\u001b[0m\u001b[1;33m\u001b[0m\u001b[0m\n\u001b[1;32m----> 2\u001b[1;33m \u001b[0ma\u001b[0m\u001b[1;33m,\u001b[0m \u001b[0mb\u001b[0m\u001b[1;33m,\u001b[0m \u001b[0mc\u001b[0m \u001b[1;33m=\u001b[0m \u001b[1;33m[\u001b[0m\u001b[1;36m12\u001b[0m\u001b[1;33m,\u001b[0m\u001b[1;36m23\u001b[0m\u001b[1;33m]\u001b[0m\u001b[1;33m\u001b[0m\u001b[1;33m\u001b[0m\u001b[0m\n\u001b[0m",
      "\u001b[1;31mValueError\u001b[0m: not enough values to unpack (expected 3, got 2)"
     ]
    }
   ],
   "source": [
    "# will result in an unpacking error\n",
    "a, b, c = [12,23]"
   ]
  },
  {
   "source": [
    "### Bonus 4: List Comprehension\n",
    "---\n",
    "List comprehension is a unique way of using and declaring lists in Python. List comprehensions are used to create new Python lists from existing iterables (or functions that return a value). Let us have a look at how to use list comprehensions. First, we will see the syntax for the implementation of a basic list comprehension.\n",
    "\n",
    "> list_comp = \\[expression for item in iterable], where,\n",
    "* expression: An expression/operation that you need to perform on the item from the iterable.\n",
    "* item: An item from an iterable object. For ex.- A list item from a Python list.\n",
    "* iterable: An iterable Python object such as a list, tuple, string etc.\n",
    "\n",
    "\n",
    "While the syntax doesn't make things very clear, but an example will clarify everything."
   ],
   "cell_type": "markdown",
   "metadata": {}
  },
  {
   "cell_type": "code",
   "execution_count": 1,
   "metadata": {
    "tags": []
   },
   "outputs": [
    {
     "output_type": "stream",
     "name": "stdout",
     "text": "[2, 4, 6, 8]\n"
    }
   ],
   "source": [
    "list1 = [1, 2, 3, 4]\n",
    "\n",
    "# In this example, \n",
    "# expression -> 2 * i (i.e., we are multiplying the item by 2)\n",
    "# item -> i (item returned while iterating through the iterable)\n",
    "# iterable -> another list\n",
    "\n",
    "list_comp = [2 * i for i in list1]\n",
    "print(list_comp)"
   ]
  },
  {
   "cell_type": "code",
   "execution_count": 4,
   "metadata": {},
   "outputs": [
    {
     "output_type": "execute_result",
     "data": {
      "text/plain": "[1, 8, 27, 64, 125, 216, 343, 512, 729]"
     },
     "metadata": {},
     "execution_count": 4
    }
   ],
   "source": [
    "list_comp2 = [item**3 for item in range(1, 10)] # cubing every integer returned by range iterable object\n",
    "list_comp2 "
   ]
  },
  {
   "source": [
    "Now. let us use some function in the expression part to see how you can manipulate the item from the iterable using functions in a single line of code using list comprehensions."
   ],
   "cell_type": "markdown",
   "metadata": {}
  },
  {
   "cell_type": "code",
   "execution_count": 5,
   "metadata": {},
   "outputs": [
    {
     "output_type": "execute_result",
     "data": {
      "text/plain": "['P', 'Y', 'T', 'H', 'O', 'N']"
     },
     "metadata": {},
     "execution_count": 5
    }
   ],
   "source": [
    "string1 = 'python'\n",
    "\n",
    "list_comp3 = [char.upper() for char in string1]\n",
    "list_comp3"
   ]
  },
  {
   "source": [
    "You can also use conditional operators in list comprehensions.\n",
    " "
   ],
   "cell_type": "markdown",
   "metadata": {}
  },
  {
   "cell_type": "code",
   "execution_count": 7,
   "metadata": {},
   "outputs": [
    {
     "output_type": "execute_result",
     "data": {
      "text/plain": "[0, 7, 14, 21, 28, 35, 42, 49, 56, 63, 70, 77, 84, 91, 98]"
     },
     "metadata": {},
     "execution_count": 7
    }
   ],
   "source": [
    "list_comp4 = [item for item in range(100) if item % 7 == 0] # creates a list of multiples of 7 between 0-100\n",
    "list_comp4"
   ]
  },
  {
   "source": [
    "You can also use nested conditional within list comprehension.\n",
    "\n",
    "In the example given below, we will implement the following code in one line using list comprehension.\n",
    "\n",
    "> list1 = []\n",
    "\n",
    "> for i in range(100):\n",
    ">> if i % 2 == 0:\n",
    ">>> if i % 5 == 0:\n",
    ">>>> list1.append(i)"
   ],
   "cell_type": "markdown",
   "metadata": {}
  },
  {
   "cell_type": "code",
   "execution_count": 8,
   "metadata": {},
   "outputs": [
    {
     "output_type": "execute_result",
     "data": {
      "text/plain": "[0, 10, 20, 30, 40, 50, 60, 70, 80, 90]"
     },
     "metadata": {},
     "execution_count": 8
    }
   ],
   "source": [
    "list_comp5 = [item for item in range(100) if item % 2 == 0 if item % 5 == 0]\n",
    "list_comp5"
   ]
  },
  {
   "source": [
    "While list comprehensions come in handy while writing clean and concise codes, too complex list comprehensions involving a lot of conditionals are often looked down upon as the end up reducing the readability of code. So in case you use list comprehensions, make sure you keep them simple. If they are getting too complex, you might wanna write an explanatory comment or go with regular code blocks instead of the one-liners.\n",
    "\n",
    "### Bonus 5: Lambda Functions\n",
    "---\n",
    "\n",
    "Lambda functions are a type of anonymous functions in Python, i.e., these functions do not have a name. Generally, while defining functions in Python, we use the __def__ keyword. However, in case of Lambda functions, we use the __lambda__ keyword.\n",
    "\n",
    "A lambda function can have multiple arguments, however, at max it can have only one expression. The following is the syntax for lambda functions.\n",
    "\n",
    "> lambda arguments: expression, where,\n",
    "* arguments: Arguments passed to the lambda function. In case of multiple arguments, separate them with commas.\n",
    "* expression: A singe line expression (or operation) that you want to perform using the arguments.\n",
    "\n",
    "Let us understand this with the help of some examples."
   ],
   "cell_type": "markdown",
   "metadata": {}
  },
  {
   "cell_type": "code",
   "execution_count": 14,
   "metadata": {
    "tags": []
   },
   "outputs": [
    {
     "output_type": "stream",
     "name": "stdout",
     "text": "15\n"
    }
   ],
   "source": [
    "# step-1: Declaring a lambda function and storing it in variable a\n",
    "a = lambda x: x*5\n",
    "\n",
    "# step-2: Using lambda function\n",
    "print(a(3))"
   ]
  },
  {
   "cell_type": "code",
   "execution_count": 24,
   "metadata": {
    "tags": []
   },
   "outputs": [
    {
     "output_type": "stream",
     "name": "stdout",
     "text": "8\n"
    }
   ],
   "source": [
    "add = lambda x,y: x + y\n",
    "print(add(3,5))"
   ]
  },
  {
   "source": [
    "We will see more uses of the lambda function in a later section. Let us move to the final part of our bonus tutorial section.\n",
    "\n",
    "### Bonus 6: map() Methods\n",
    "---\n",
    "\n",
    "map() function returns a map object (which is an iterator) of the results after applying the given function to each item of a given iterable (list, tuple etc.). The following is the syntax of the map() method.\n",
    "\n",
    "> map_object = map(*function*, iterable), where,\n",
    "* function: A operation or function that is to be performed on every item of the iterable.\n",
    "* iterable: An iterable object, such as a list, tuple, etc.\n",
    "\n",
    "Let us understand this with the help of some examples."
   ],
   "cell_type": "markdown",
   "metadata": {}
  },
  {
   "cell_type": "code",
   "execution_count": 27,
   "metadata": {
    "tags": []
   },
   "outputs": [
    {
     "output_type": "stream",
     "name": "stdout",
     "text": "<map object at 0x000001974C8362C8>\n0 1 4 9 16 25 36 49 64 81"
    }
   ],
   "source": [
    "# step-1: Defining a function\n",
    "def square(x):\n",
    "    return x**2\n",
    "\n",
    "# step-2: Mapping square function onto a range of integers. map1 will be a map object that we can iterate through\n",
    "map1 = map(square, range(10))\n",
    "print(map1)\n",
    "\n",
    "# step-3: Iterating through map object\n",
    "for i in map1:\n",
    "    print(i, end=\" \")"
   ]
  },
  {
   "source": [
    "You can use a combination of lambda function, list comprehension and map function too. Let's see an example for this."
   ],
   "cell_type": "markdown",
   "metadata": {}
  },
  {
   "cell_type": "code",
   "execution_count": 29,
   "metadata": {},
   "outputs": [
    {
     "output_type": "execute_result",
     "data": {
      "text/plain": "[0, 2, 6, 12, 20, 30, 42, 56, 72, 90]"
     },
     "metadata": {},
     "execution_count": 29
    }
   ],
   "source": [
    "list_comp = [x for x in map(lambda x: x*(x+1),range(10))]\n",
    "list_comp"
   ]
  },
  {
   "source": [
    "With this, we come to an end of our bonus section. You learned a lot today. Congratulations!"
   ],
   "cell_type": "markdown",
   "metadata": {}
  }
 ]
}