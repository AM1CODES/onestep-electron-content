{
 "metadata": {
  "language_info": {
   "codemirror_mode": {
    "name": "ipython",
    "version": 3
   },
   "file_extension": ".py",
   "mimetype": "text/x-python",
   "name": "python",
   "nbconvert_exporter": "python",
   "pygments_lexer": "ipython3",
   "version": "3.7.4-final"
  },
  "orig_nbformat": 2,
  "kernelspec": {
   "name": "python3",
   "display_name": "Python 3"
  }
 },
 "nbformat": 4,
 "nbformat_minor": 2,
 "cells": [
  {
   "cell_type": "markdown",
   "metadata": {},
   "source": [
    "# Python Crash Course- Part 3\n",
    "---\n",
    "\n",
    "As a quick recap, in the last part of our Python crash course, we covered comparison and logical operators, the conditional statements and loops in Python. \n",
    "\n",
    "This is the final, and the most important part of our Python crash course series yet. In this part, we will have a look at the following topics-\n",
    "\n",
    "* Functions\n",
    "* Object Oriented Programming (**OOP**) Concepts \n",
    "\n",
    "Functions and OOP play a key role when it comes to programming in general. These concepts that you are going to learn here are common for all languages (however the syntax might vary a little depending on your choice of programming language). So understanding these concepts properly now will help you in the longer run when you learn a new programming language in the future.\n",
    "\n",
    "Let's get started.\n",
    "\n",
    "## FUNCTION IN PYTHON \n",
    "---\n",
    "\n",
    "A function can be defined as an organized block of code that consists of a sequence of instructions/code-statements that are to be performed when the function is called. \n",
    "\n",
    "The following is the syntax to define a function in Python:\n",
    "> def function_name (args\\*, kwargs\\*\\*):\n",
    ">> \\# lines of codes\n",
    "\n",
    ">> return return_value (optional)\n",
    "\n",
    "Here, \n",
    "* def -> The def keyword in Python is used to define a function\n",
    "* function_name -> The name of the function that you want to use. This name will then be used in the future to call the function.\n",
    "* args, kwargs -> Arguments and keyword arguments that are to be passed on to the function. \n",
    "* return -> return keyword denotes the entity (a variable, value, another function or object) that the function returns upon the execution of all the statements within it. By default, if the return statement is not provided at the end of the function, then the function doesn't return any entity.\n",
    " \n",
    "Using any function involes 2 steps. First, we declare the function. Then in the second step involves 'calling' the function, that actually allows us to run the function. \n",
    "\n",
    "Let us now understand all the above explained concepts with the help of some examples."
   ]
  },
  {
   "cell_type": "code",
   "execution_count": 3,
   "metadata": {},
   "outputs": [
    {
     "output_type": "stream",
     "name": "stdout",
     "text": [
      "8\n8\n8\n8\n8\n"
     ]
    }
   ],
   "source": [
    "## function to print a number 'num' 5 times\n",
    "\n",
    "# declaring the function\n",
    "def print_num(num): # num is a argument \n",
    "    for i in range(5):\n",
    "        print(num)\n",
    "\n",
    "# calling thr function\n",
    "print_num(8)"
   ]
  },
  {
   "cell_type": "code",
   "execution_count": 4,
   "metadata": {},
   "outputs": [
    {
     "output_type": "stream",
     "name": "stdout",
     "text": [
      "3\n3\n3\n3\n3\n"
     ]
    }
   ],
   "source": [
    "## function with a default argument\n",
    "\n",
    "# declaring the function\n",
    "def print_num(num = 3):\n",
    "    for i in range(5):\n",
    "        print(num)\n",
    "\n",
    "# calling the function\n",
    "print_num() # if we don't pass the num argument, the default value of num argument is used"
   ]
  },
  {
   "source": [
    "In case your function has arguments with default arguments, make sure that the non-default arguments are declared before all the default ones. "
   ],
   "cell_type": "markdown",
   "metadata": {}
  },
  {
   "cell_type": "code",
   "execution_count": 6,
   "metadata": {},
   "outputs": [
    {
     "output_type": "error",
     "ename": "SyntaxError",
     "evalue": "non-default argument follows default argument (<ipython-input-6-f7e8ad465f63>, line 3)",
     "traceback": [
      "\u001b[1;36m  File \u001b[1;32m\"<ipython-input-6-f7e8ad465f63>\"\u001b[1;36m, line \u001b[1;32m3\u001b[0m\n\u001b[1;33m    def func(a = 5, b):\u001b[0m\n\u001b[1;37m            ^\u001b[0m\n\u001b[1;31mSyntaxError\u001b[0m\u001b[1;31m:\u001b[0m non-default argument follows default argument\n"
     ]
    }
   ],
   "source": [
    "# the below given code will result in an error because we have a default argument declared before non-default one\n",
    "\n",
    "def func(a = 5, b):\n",
    "    print(a, b)\n",
    "\n",
    "func(5,6)"
   ]
  },
  {
   "source": [
    "Now let us see the example of functions where we are returning a value."
   ],
   "cell_type": "markdown",
   "metadata": {}
  },
  {
   "cell_type": "code",
   "execution_count": 7,
   "metadata": {},
   "outputs": [
    {
     "output_type": "stream",
     "name": "stdout",
     "text": [
      "20\n"
     ]
    }
   ],
   "source": [
    "## function to multiply two given numbers\n",
    "# declaring the function\n",
    "def multiply(num1, num2):\n",
    "    return num1 * num2\n",
    "\n",
    "# function call\n",
    "result = multiply(4, 5) # returned value will be stored in the result variable\n",
    "print(result)"
   ]
  },
  {
   "source": [
    "While the exemplary functions given above are very simple, generally, functions tend to be more complex than these. We can have nested functions, where we have functions that can call other pre-defined functions within them. \n",
    "\n",
    "Let us see some examples for nested functions."
   ],
   "cell_type": "markdown",
   "metadata": {}
  },
  {
   "cell_type": "code",
   "execution_count": 11,
   "metadata": {},
   "outputs": [
    {
     "output_type": "execute_result",
     "data": {
      "text/plain": [
       "8.285714285714286"
      ]
     },
     "metadata": {},
     "execution_count": 11
    }
   ],
   "source": [
    "# arithmetic problem to be solved: ((4*2)+(5-3)/7) = ?\n",
    "\n",
    "# function to multiply two numbers\n",
    "def multiply(num1, num2):\n",
    "    return num1 * num2\n",
    "\n",
    "# function to add two numbers\n",
    "def add(num1, num2):\n",
    "    return num1 + num2\n",
    "\n",
    "# function to subtract 2 numbers\n",
    "def subtract(num1, num2):\n",
    "    return num1 - num2\n",
    "\n",
    "# function to divide 2 numbers\n",
    "def divide(num1, num2):\n",
    "    return num1 / num2\n",
    "\n",
    "# function to solve the given function\n",
    "def solver(num1, num2, num3, num4, num5):\n",
    "    mult = multiply(num1, num2)\n",
    "    subt = subtract(num3, num4)\n",
    "    div = divide(subt, num5)\n",
    "    result = add(mult, div)\n",
    "    return result\n",
    "\n",
    "# calling the solver function\n",
    "solver(4, 2, 5, 3, 7)"
   ]
  },
  {
   "source": [
    "While not the most ideal example, the above function clearly displayed how you can call a function within another function. Actually this is the main reason why function exists. Functions allow you to break a larger problem into sub problems. Each of these sub-problems can be implemented as individual 'helper' functions. Then, we can have one parent function where we can call all the other 'helper' functions and integrate them to provide the final solution. Thus, functions allow a modular design within the code.\n",
    "\n",
    "Now, let us move on to the next part where we will understand the concept of object-oriented programming. \n",
    "\n",
    "## OBJECT ORIENTED PROGRAMMING USING PYTHON \n",
    "---\n",
    "\n",
    "Object-oriented programming (OOP) is a method of structuring a program by bundling related properties and behaviors into individual objects. Since this is a crash course, we won't be going deep into what OOP is. We'll directly skip to how to build classes and inherit the components of one class into the other.\n",
    "\n",
    "Here's how to declare a class in Python.\n",
    "\n",
    "> class class_name:\n",
    ">> pass\n",
    "\n",
    "Here, \n",
    "* class -> The class keyword denotes a class in Python\n",
    "* class_name -> \"class_name\" is the name that we have given to the class. By convention, class name starts with a capital letter  \n",
    "* pass -> The pass keyword is used in Python as a filler for when you wish to define the actual contents of the class or function later\n",
    "\n",
    "Let us understand this with the help of an example."
   ],
   "cell_type": "markdown",
   "metadata": {}
  },
  {
   "cell_type": "code",
   "execution_count": 2,
   "metadata": {},
   "outputs": [
    {
     "output_type": "stream",
     "name": "stdout",
     "text": [
      "ROG\nLaptop\n"
     ]
    }
   ],
   "source": [
    "# declaring a class\n",
    "class Computers:\n",
    "    c_type = \"Laptop\"\n",
    "    c_make = \"ROG\"\n",
    "\n",
    "# instantiating a class, i.e., creating an object of the class\n",
    "laptop = Computers()\n",
    "\n",
    "print(laptop.c_make)\n",
    "print(laptop.c_type)"
   ]
  },
  {
   "source": [
    "A class has the following components:\n",
    "\n",
    "* Attributes: A class attribute can be defined as a variable that belongs to the class, which can be used to represent the characteristics of the class.\n",
    "* Methods/functions: Class methods are functions that belong to a class object rather than the class itself. That is, in order to use a class method, generally you will have to declare an object of the class.   \n",
    "\n",
    "Let us see one more example. This will be a little different from the one that you saw earlier."
   ],
   "cell_type": "markdown",
   "metadata": {}
  },
  {
   "cell_type": "code",
   "execution_count": 7,
   "metadata": {},
   "outputs": [],
   "source": [
    "# declaring the cloth class\n",
    "class Cloth:\n",
    "    # creating class constructor\n",
    "    def __init__(self, typeCloth, cost, size):\n",
    "        self.typeCloth  = typeCloth\n",
    "        self.cost = cost\n",
    "        self.size = size\n",
    "\n",
    "    # declaring class method\n",
    "    def printCloth(self):\n",
    "        print('Cloth category: {}'.format(self.typeCloth))\n",
    "        print('Price: {}'.format(self.cost))\n",
    "        print('Size available: {}'.format(self.size))"
   ]
  },
  {
   "source": [
    "Now, before we go ahead and use this class, let us understand the various components of the code that we have declared above. In the first line,\n",
    "\n",
    "> class Cloth:\n",
    " \n",
    "we declared the class. Then, we declared a weird looking function called __\\__init____. Let us break down the \\__init__ method:\n",
    "* First of all, these type of functions declared with double underscores are known as magic methods. These are special functions in Python that, just like some special reserved keywords like __print__, __type__ etc. have some special, reserved usage in Python. \n",
    "\n",
    "* The __self__ keyword represents the instance of the class. It can be used to access the class attributes and methods. In the __init__ method, the 'self' keyword binds the constructor arguments to the class attributes. \n",
    "\n",
    "* TypeCloth, size and cost are constructor arguments. \n",
    "\n",
    "In the end, we declared the printCloth function, that prints the values of the various class attributes.\n",
    "\n",
    "Now that we have seen the breakdown of the code above, lets create an object of the Cloth class and see how it works."
   ],
   "cell_type": "markdown",
   "metadata": {}
  },
  {
   "cell_type": "code",
   "execution_count": 9,
   "metadata": {},
   "outputs": [
    {
     "output_type": "stream",
     "name": "stdout",
     "text": [
      "Cloth category: Pants\nPrice: 12.99\nSize available: XXXS\n"
     ]
    }
   ],
   "source": [
    "# creating a Cloth object. We will have to provide all the declared arguments in the class constructor\n",
    "squarePants = Cloth(typeCloth = 'Pants', cost = 12.99, size = 'XXXS')\n",
    "\n",
    "squarePants.printCloth()"
   ]
  },
  {
   "cell_type": "code",
   "execution_count": null,
   "metadata": {},
   "outputs": [],
   "source": []
  }
 ]
}