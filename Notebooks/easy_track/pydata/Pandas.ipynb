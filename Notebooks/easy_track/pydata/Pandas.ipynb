{
 "cells": [
  {
   "cell_type": "markdown",
   "metadata": {
    "papermill": {
     "duration": 0.009619,
     "end_time": "2020-09-03T13:17:53.849729",
     "exception": false,
     "start_time": "2020-09-03T13:17:53.840110",
     "status": "completed"
    },
    "tags": []
   },
   "source": [
    "# Pandas Tutorial\n",
    "---\n",
    "In this tutorial we will take a look at Pandas library which is a very important library when it comes to performing operations on data. We will take a look at things like importing data, extracting data from the table, locating rows and columns, etc. So lets go ahead and see how we implement Pandas.\n",
    "\n",
    "# Importing Libraries\n",
    "---"
   ]
  },
  {
   "cell_type": "code",
   "execution_count": 1,
   "metadata": {
    "_cell_guid": "b1076dfc-b9ad-4769-8c92-a6c4dae69d19",
    "_uuid": "8f2839f25d086af736a60e9eeb907d3b93b6e0e5",
    "execution": {
     "iopub.execute_input": "2020-09-03T13:17:53.878158Z",
     "iopub.status.busy": "2020-09-03T13:17:53.877421Z",
     "iopub.status.idle": "2020-09-03T13:17:53.881767Z",
     "shell.execute_reply": "2020-09-03T13:17:53.881229Z"
    },
    "papermill": {
     "duration": 0.022259,
     "end_time": "2020-09-03T13:17:53.881903",
     "exception": false,
     "start_time": "2020-09-03T13:17:53.859644",
     "status": "completed"
    },
    "tags": []
   },
   "outputs": [],
   "source": [
    "import numpy as np # linear algebra\n",
    "import pandas as pd # data processing, CSV file I/O (e.g. pd.read_csv)\n",
    "import os"
   ]
  },
  {
   "cell_type": "markdown",
   "metadata": {
    "papermill": {
     "duration": 0.009747,
     "end_time": "2020-09-03T13:17:53.901749",
     "exception": false,
     "start_time": "2020-09-03T13:17:53.892002",
     "status": "completed"
    },
    "tags": []
   },
   "source": [
    "# Pandas Series\n",
    "---\n",
    "Pandas series works like a one-dimensional array and it can hold any type of data such as int, float, string,etc. You can create a series using an array, list or even dictionary.\n",
    "\n",
    "* **Command** - \n",
    "* pd.Series() - This will help us in making our series. We can pass the array in the brackets if we are using an array to form the series, similarly we can pass the data values and index if we are using a dictionary."
   ]
  },
  {
   "cell_type": "code",
   "execution_count": 2,
   "metadata": {
    "_cell_guid": "79c7e3d0-c299-4dcb-8224-4455121ee9b0",
    "_uuid": "d629ff2d2480ee46fbb7e2d37f6b5fab8052498a",
    "execution": {
     "iopub.execute_input": "2020-09-03T13:17:53.938105Z",
     "iopub.status.busy": "2020-09-03T13:17:53.930308Z",
     "iopub.status.idle": "2020-09-03T13:17:53.941946Z",
     "shell.execute_reply": "2020-09-03T13:17:53.942416Z"
    },
    "papermill": {
     "duration": 0.030839,
     "end_time": "2020-09-03T13:17:53.942547",
     "exception": false,
     "start_time": "2020-09-03T13:17:53.911708",
     "status": "completed"
    },
    "tags": []
   },
   "outputs": [
    {
     "output_type": "execute_result",
     "data": {
      "text/plain": [
       "a    10\n",
       "b    20\n",
       "c    30\n",
       "dtype: int64"
      ]
     },
     "metadata": {},
     "execution_count": 2
    }
   ],
   "source": [
    "labels = ['a','b','c']\n",
    "my_data = [10,20,30] \n",
    "arr = np.array(my_data) #our array\n",
    "dic = {'a':10 , 'b':20, 'c':30} #ur dictionary\n",
    "pd.Series(my_data,labels)"
   ]
  },
  {
   "cell_type": "code",
   "execution_count": 3,
   "metadata": {
    "execution": {
     "iopub.execute_input": "2020-09-03T13:17:53.969702Z",
     "iopub.status.busy": "2020-09-03T13:17:53.968979Z",
     "iopub.status.idle": "2020-09-03T13:17:53.974151Z",
     "shell.execute_reply": "2020-09-03T13:17:53.973495Z"
    },
    "papermill": {
     "duration": 0.021348,
     "end_time": "2020-09-03T13:17:53.974251",
     "exception": false,
     "start_time": "2020-09-03T13:17:53.952903",
     "status": "completed"
    },
    "tags": []
   },
   "outputs": [
    {
     "output_type": "execute_result",
     "data": {
      "text/plain": [
       "a    10\n",
       "b    20\n",
       "c    30\n",
       "dtype: int64"
      ]
     },
     "metadata": {},
     "execution_count": 3
    }
   ],
   "source": [
    "pd.Series(arr,labels) #by using array"
   ]
  },
  {
   "cell_type": "code",
   "execution_count": 4,
   "metadata": {
    "execution": {
     "iopub.execute_input": "2020-09-03T13:17:54.001679Z",
     "iopub.status.busy": "2020-09-03T13:17:54.000959Z",
     "iopub.status.idle": "2020-09-03T13:17:54.006610Z",
     "shell.execute_reply": "2020-09-03T13:17:54.006134Z"
    },
    "papermill": {
     "duration": 0.02221,
     "end_time": "2020-09-03T13:17:54.006713",
     "exception": false,
     "start_time": "2020-09-03T13:17:53.984503",
     "status": "completed"
    },
    "tags": []
   },
   "outputs": [
    {
     "output_type": "execute_result",
     "data": {
      "text/plain": [
       "a    10\n",
       "b    20\n",
       "c    30\n",
       "dtype: int64"
      ]
     },
     "metadata": {},
     "execution_count": 4
    }
   ],
   "source": [
    "pd.Series(dic) #by using dictionary"
   ]
  },
  {
   "cell_type": "markdown",
   "metadata": {
    "papermill": {
     "duration": 0.01023,
     "end_time": "2020-09-03T13:17:54.027385",
     "exception": false,
     "start_time": "2020-09-03T13:17:54.017155",
     "status": "completed"
    },
    "tags": []
   },
   "source": [
    "# Retrieveing Values from a Series\n",
    "---\n",
    "To retrieve any value from a Pandas Series we just need to pass the index of the value that we wish to fetch."
   ]
  },
  {
   "cell_type": "code",
   "execution_count": 5,
   "metadata": {
    "execution": {
     "iopub.execute_input": "2020-09-03T13:17:54.055250Z",
     "iopub.status.busy": "2020-09-03T13:17:54.054356Z",
     "iopub.status.idle": "2020-09-03T13:17:54.058552Z",
     "shell.execute_reply": "2020-09-03T13:17:54.059188Z"
    },
    "papermill": {
     "duration": 0.021466,
     "end_time": "2020-09-03T13:17:54.059351",
     "exception": false,
     "start_time": "2020-09-03T13:17:54.037885",
     "status": "completed"
    },
    "tags": []
   },
   "outputs": [
    {
     "output_type": "stream",
     "name": "stdout",
     "text": [
      "a    1\nb    2\nc    3\nd    4\ndtype: int64\n"
     ]
    }
   ],
   "source": [
    "ser = pd.Series([1,2,3,4] , ['a','b','c','d'])\n",
    "print(ser)"
   ]
  },
  {
   "cell_type": "code",
   "execution_count": 6,
   "metadata": {
    "execution": {
     "iopub.execute_input": "2020-09-03T13:17:54.086189Z",
     "iopub.status.busy": "2020-09-03T13:17:54.085383Z",
     "iopub.status.idle": "2020-09-03T13:17:54.089316Z",
     "shell.execute_reply": "2020-09-03T13:17:54.088713Z"
    },
    "papermill": {
     "duration": 0.018576,
     "end_time": "2020-09-03T13:17:54.089410",
     "exception": false,
     "start_time": "2020-09-03T13:17:54.070834",
     "status": "completed"
    },
    "tags": []
   },
   "outputs": [
    {
     "output_type": "stream",
     "name": "stdout",
     "text": [
      "1\n"
     ]
    }
   ],
   "source": [
    "print(ser['a']) #we used the index a which has the value of 1"
   ]
  },
  {
   "cell_type": "markdown",
   "metadata": {
    "papermill": {
     "duration": 0.01022,
     "end_time": "2020-09-03T13:17:54.110188",
     "exception": false,
     "start_time": "2020-09-03T13:17:54.099968",
     "status": "completed"
    },
    "tags": []
   },
   "source": [
    "# Adding two Pandas Series\n",
    "---\n",
    "Just like string concatenation, we can also add two Pandas Series. Lets do and take a look at it."
   ]
  },
  {
   "cell_type": "code",
   "execution_count": 7,
   "metadata": {
    "execution": {
     "iopub.execute_input": "2020-09-03T13:17:54.152008Z",
     "iopub.status.busy": "2020-09-03T13:17:54.149526Z",
     "iopub.status.idle": "2020-09-03T13:17:54.175941Z",
     "shell.execute_reply": "2020-09-03T13:17:54.175368Z"
    },
    "papermill": {
     "duration": 0.055563,
     "end_time": "2020-09-03T13:17:54.176041",
     "exception": false,
     "start_time": "2020-09-03T13:17:54.120478",
     "status": "completed"
    },
    "tags": []
   },
   "outputs": [
    {
     "output_type": "stream",
     "name": "stdout",
     "text": [
      "a    2.0\nb    4.0\nc    NaN\nd    8.0\ne    NaN\ndtype: float64\n"
     ]
    }
   ],
   "source": [
    "ser1 = pd.Series([1,2,3,4],['a','b','c','d'])\n",
    "ser2 = pd.Series([1,2,5,4],['a','b','e','d'])\n",
    "ser3 = ser1 + ser2\n",
    "print(ser3)"
   ]
  },
  {
   "cell_type": "markdown",
   "metadata": {
    "papermill": {
     "duration": 0.010536,
     "end_time": "2020-09-03T13:17:54.197292",
     "exception": false,
     "start_time": "2020-09-03T13:17:54.186756",
     "status": "completed"
    },
    "tags": []
   },
   "source": [
    "And that is how we can add two Series to generate a third series that holds the sum of first two series. We can see we have Nan values for index 'c' and 'e' and that is because in the first series the values of 'c' is 3 and value of 'e' is 5, now as these two index dont match with any other index in the series hence by default their values are given as NaN."
   ]
  },
  {
   "cell_type": "markdown",
   "metadata": {
    "papermill": {
     "duration": 0.010372,
     "end_time": "2020-09-03T13:17:54.218354",
     "exception": false,
     "start_time": "2020-09-03T13:17:54.207982",
     "status": "completed"
    },
    "tags": []
   },
   "source": [
    "# Data Frames\n",
    "---\n",
    "Most of the times you will find yourself working with Data Frames. It is basically a two dimensional structure that stores the data in tabular format which can be changed and edited as per user's requirements. Just like Series we can make a Data frame as well using array, lists and dictionaries.\n",
    "\n",
    "* **Command** - \n",
    "* pd.DataFrame(dimesnion,rows,columns) = You can pass in arrays and lists that work as index values and the data values and specify the dimensions of the table that you want. You  cam even pass in a series."
   ]
  },
  {
   "cell_type": "code",
   "execution_count": 8,
   "metadata": {
    "execution": {
     "iopub.execute_input": "2020-09-03T13:17:54.251722Z",
     "iopub.status.busy": "2020-09-03T13:17:54.250936Z",
     "iopub.status.idle": "2020-09-03T13:17:54.255989Z",
     "shell.execute_reply": "2020-09-03T13:17:54.255331Z"
    },
    "papermill": {
     "duration": 0.027317,
     "end_time": "2020-09-03T13:17:54.256120",
     "exception": false,
     "start_time": "2020-09-03T13:17:54.228803",
     "status": "completed"
    },
    "tags": []
   },
   "outputs": [
    {
     "output_type": "stream",
     "name": "stdout",
     "text": [
      "          W         X         Y         Z\nA  2.706850  0.628133  0.907969  0.503826\nB  0.651118 -0.319318 -0.848077  0.605965\nC -2.018168  0.740122  0.528813 -0.589001\nD  0.188695 -0.758872 -0.933237  0.955057\n"
     ]
    }
   ],
   "source": [
    "from numpy.random import randn\n",
    "np.random.seed(101)\n",
    "\n",
    "df = pd.DataFrame(randn(4,4),['A','B','C','D'],['W','X','Y','Z'])\n",
    "print(df)"
   ]
  },
  {
   "cell_type": "markdown",
   "metadata": {
    "papermill": {
     "duration": 0.017206,
     "end_time": "2020-09-03T13:17:54.290451",
     "exception": false,
     "start_time": "2020-09-03T13:17:54.273245",
     "status": "completed"
    },
    "tags": []
   },
   "source": [
    "As we can see we have our very own Dataframe. We used A,B,C,D as the rows and W,X,Y,Z as our columns. The random method just generates random number to fill up our DataFrame. We also mentioned dimensions for our DataFrame i.e. 4x4 as we mentioned 4 rows and 4 columns. We can also grab rows and columns and the information in these rows and column if we need to analyse them individually. The columns that we will grab will work as Series"
   ]
  },
  {
   "cell_type": "code",
   "execution_count": 9,
   "metadata": {
    "execution": {
     "iopub.execute_input": "2020-09-03T13:17:54.331268Z",
     "iopub.status.busy": "2020-09-03T13:17:54.330318Z",
     "iopub.status.idle": "2020-09-03T13:17:54.333740Z",
     "shell.execute_reply": "2020-09-03T13:17:54.334420Z"
    },
    "papermill": {
     "duration": 0.027057,
     "end_time": "2020-09-03T13:17:54.334570",
     "exception": false,
     "start_time": "2020-09-03T13:17:54.307513",
     "status": "completed"
    },
    "tags": []
   },
   "outputs": [
    {
     "output_type": "stream",
     "name": "stdout",
     "text": [
      "A    2.706850\nB    0.651118\nC   -2.018168\nD    0.188695\nName: W, dtype: float64\n"
     ]
    }
   ],
   "source": [
    "print(df['W']) #grabbing a single column W"
   ]
  },
  {
   "cell_type": "code",
   "execution_count": 10,
   "metadata": {
    "execution": {
     "iopub.execute_input": "2020-09-03T13:17:54.381187Z",
     "iopub.status.busy": "2020-09-03T13:17:54.380504Z",
     "iopub.status.idle": "2020-09-03T13:17:54.385707Z",
     "shell.execute_reply": "2020-09-03T13:17:54.384969Z"
    },
    "papermill": {
     "duration": 0.03388,
     "end_time": "2020-09-03T13:17:54.385869",
     "exception": false,
     "start_time": "2020-09-03T13:17:54.351989",
     "status": "completed"
    },
    "tags": []
   },
   "outputs": [
    {
     "output_type": "stream",
     "name": "stdout",
     "text": [
      "          W         X\nA  2.706850  0.628133\nB  0.651118 -0.319318\nC -2.018168  0.740122\nD  0.188695 -0.758872\n"
     ]
    }
   ],
   "source": [
    "print(df[['W','X']]) #grabbing more than one list by passing in list of columns"
   ]
  },
  {
   "cell_type": "markdown",
   "metadata": {
    "papermill": {
     "duration": 0.010706,
     "end_time": "2020-09-03T13:17:54.408643",
     "exception": false,
     "start_time": "2020-09-03T13:17:54.397937",
     "status": "completed"
    },
    "tags": []
   },
   "source": [
    "# Adding and Dropping columns in DataFrame\n",
    "---\n",
    "We can make changes to already existing Data Frames by adding or dropping columns. Many times the data that you have might have some columns that are not at all useful for your model so you might have to drop them from the Data Frame in order to make your model more accurate. Lets go ahead and take a look  at how we can add and delete columns in our DataFrame.\n",
    "\n",
    "* **Command** - \n",
    "* df\\['column_name'] - To add a new column we can use this command.\n",
    "* df.drop('column_name',axis = 1,inplace = True) - To drop a column from a Data Frame we can use this method. We also define the axis from which we wish to drop, so axis = 1 when we wish to drop a column and axis = 0 when we wish to drop a row. If we dont define the inplace = True, the column wont be dropped permanently from the DataFrame."
   ]
  },
  {
   "cell_type": "code",
   "execution_count": 12,
   "metadata": {
    "execution": {
     "iopub.execute_input": "2020-09-03T13:17:54.442766Z",
     "iopub.status.busy": "2020-09-03T13:17:54.442091Z",
     "iopub.status.idle": "2020-09-03T13:17:54.453705Z",
     "shell.execute_reply": "2020-09-03T13:17:54.453146Z"
    },
    "papermill": {
     "duration": 0.03419,
     "end_time": "2020-09-03T13:17:54.453808",
     "exception": false,
     "start_time": "2020-09-03T13:17:54.419618",
     "status": "completed"
    },
    "tags": []
   },
   "outputs": [
    {
     "output_type": "execute_result",
     "data": {
      "text/plain": [
       "          W         X         Y         Z       new\n",
       "A  2.706850  0.628133  0.907969  0.503826  1.536102\n",
       "B  0.651118 -0.319318 -0.848077  0.605965 -1.167395\n",
       "C -2.018168  0.740122  0.528813 -0.589001  1.268936\n",
       "D  0.188695 -0.758872 -0.933237  0.955057 -1.692109"
      ],
      "text/html": "<div>\n<style scoped>\n    .dataframe tbody tr th:only-of-type {\n        vertical-align: middle;\n    }\n\n    .dataframe tbody tr th {\n        vertical-align: top;\n    }\n\n    .dataframe thead th {\n        text-align: right;\n    }\n</style>\n<table border=\"1\" class=\"dataframe\">\n  <thead>\n    <tr style=\"text-align: right;\">\n      <th></th>\n      <th>W</th>\n      <th>X</th>\n      <th>Y</th>\n      <th>Z</th>\n      <th>new</th>\n    </tr>\n  </thead>\n  <tbody>\n    <tr>\n      <th>A</th>\n      <td>2.706850</td>\n      <td>0.628133</td>\n      <td>0.907969</td>\n      <td>0.503826</td>\n      <td>1.536102</td>\n    </tr>\n    <tr>\n      <th>B</th>\n      <td>0.651118</td>\n      <td>-0.319318</td>\n      <td>-0.848077</td>\n      <td>0.605965</td>\n      <td>-1.167395</td>\n    </tr>\n    <tr>\n      <th>C</th>\n      <td>-2.018168</td>\n      <td>0.740122</td>\n      <td>0.528813</td>\n      <td>-0.589001</td>\n      <td>1.268936</td>\n    </tr>\n    <tr>\n      <th>D</th>\n      <td>0.188695</td>\n      <td>-0.758872</td>\n      <td>-0.933237</td>\n      <td>0.955057</td>\n      <td>-1.692109</td>\n    </tr>\n  </tbody>\n</table>\n</div>"
     },
     "metadata": {},
     "execution_count": 12
    }
   ],
   "source": [
    "df['new'] = df['X'] + df['Y']\n",
    "df.head()"
   ]
  },
  {
   "cell_type": "code",
   "execution_count": 13,
   "metadata": {
    "execution": {
     "iopub.execute_input": "2020-09-03T13:17:54.482501Z",
     "iopub.status.busy": "2020-09-03T13:17:54.481755Z",
     "iopub.status.idle": "2020-09-03T13:17:54.486144Z",
     "shell.execute_reply": "2020-09-03T13:17:54.485617Z"
    },
    "papermill": {
     "duration": 0.021054,
     "end_time": "2020-09-03T13:17:54.486244",
     "exception": false,
     "start_time": "2020-09-03T13:17:54.465190",
     "status": "completed"
    },
    "tags": []
   },
   "outputs": [],
   "source": [
    "df.drop('new',axis = 1,inplace = True)"
   ]
  },
  {
   "cell_type": "code",
   "execution_count": 14,
   "metadata": {
    "execution": {
     "iopub.execute_input": "2020-09-03T13:17:54.518469Z",
     "iopub.status.busy": "2020-09-03T13:17:54.517706Z",
     "iopub.status.idle": "2020-09-03T13:17:54.522924Z",
     "shell.execute_reply": "2020-09-03T13:17:54.522299Z"
    },
    "papermill": {
     "duration": 0.025688,
     "end_time": "2020-09-03T13:17:54.523021",
     "exception": false,
     "start_time": "2020-09-03T13:17:54.497333",
     "status": "completed"
    },
    "tags": []
   },
   "outputs": [
    {
     "output_type": "execute_result",
     "data": {
      "text/plain": [
       "          W         X         Y         Z\n",
       "A  2.706850  0.628133  0.907969  0.503826\n",
       "B  0.651118 -0.319318 -0.848077  0.605965\n",
       "C -2.018168  0.740122  0.528813 -0.589001\n",
       "D  0.188695 -0.758872 -0.933237  0.955057"
      ],
      "text/html": "<div>\n<style scoped>\n    .dataframe tbody tr th:only-of-type {\n        vertical-align: middle;\n    }\n\n    .dataframe tbody tr th {\n        vertical-align: top;\n    }\n\n    .dataframe thead th {\n        text-align: right;\n    }\n</style>\n<table border=\"1\" class=\"dataframe\">\n  <thead>\n    <tr style=\"text-align: right;\">\n      <th></th>\n      <th>W</th>\n      <th>X</th>\n      <th>Y</th>\n      <th>Z</th>\n    </tr>\n  </thead>\n  <tbody>\n    <tr>\n      <th>A</th>\n      <td>2.706850</td>\n      <td>0.628133</td>\n      <td>0.907969</td>\n      <td>0.503826</td>\n    </tr>\n    <tr>\n      <th>B</th>\n      <td>0.651118</td>\n      <td>-0.319318</td>\n      <td>-0.848077</td>\n      <td>0.605965</td>\n    </tr>\n    <tr>\n      <th>C</th>\n      <td>-2.018168</td>\n      <td>0.740122</td>\n      <td>0.528813</td>\n      <td>-0.589001</td>\n    </tr>\n    <tr>\n      <th>D</th>\n      <td>0.188695</td>\n      <td>-0.758872</td>\n      <td>-0.933237</td>\n      <td>0.955057</td>\n    </tr>\n  </tbody>\n</table>\n</div>"
     },
     "metadata": {},
     "execution_count": 14
    }
   ],
   "source": [
    "df.head()"
   ]
  },
  {
   "cell_type": "markdown",
   "metadata": {
    "papermill": {
     "duration": 0.010829,
     "end_time": "2020-09-03T13:17:54.545540",
     "exception": false,
     "start_time": "2020-09-03T13:17:54.534711",
     "status": "completed"
    },
    "tags": []
   },
   "source": [
    "As you can see, we added a new column to our data frame called 'new'. Then we dropped it using the .drop() method and when we call the head on our Data Frame, we can see that the column does not exist any more in the Data Frame."
   ]
  },
  {
   "cell_type": "markdown",
   "metadata": {
    "papermill": {
     "duration": 0.011077,
     "end_time": "2020-09-03T13:17:54.568186",
     "exception": false,
     "start_time": "2020-09-03T13:17:54.557109",
     "status": "completed"
    },
    "tags": []
   },
   "source": [
    "# Selecting Rows and Columns\n",
    "---\n",
    "In some cases you will need to select some specific rows and columns in order to analyse your data, in such cases method like *'.loc'* and *'.iloc'* come into picture. These will help you grab a row by either using the name of the row or by using the index. To grab a column just pass the column name in your DataFrame Object.\n",
    "\n",
    "* **Command** - \n",
    "* df.loc\\['row_name'] -  Helps in fetching the row by using the row name.\n",
    "* df.iloc\\[x] - Helps in fetching the row using the Index number(x).\n",
    "* df\\[\\[column_name]] - Helps in fetching the column using the Column name. Be careful with the two Square Brackets."
   ]
  },
  {
   "cell_type": "code",
   "execution_count": 15,
   "metadata": {
    "execution": {
     "iopub.execute_input": "2020-09-03T13:17:54.598830Z",
     "iopub.status.busy": "2020-09-03T13:17:54.598207Z",
     "iopub.status.idle": "2020-09-03T13:17:54.603907Z",
     "shell.execute_reply": "2020-09-03T13:17:54.603382Z"
    },
    "papermill": {
     "duration": 0.024582,
     "end_time": "2020-09-03T13:17:54.604006",
     "exception": false,
     "start_time": "2020-09-03T13:17:54.579424",
     "status": "completed"
    },
    "tags": []
   },
   "outputs": [
    {
     "output_type": "execute_result",
     "data": {
      "text/plain": [
       "W   -2.018168\n",
       "X    0.740122\n",
       "Y    0.528813\n",
       "Z   -0.589001\n",
       "Name: C, dtype: float64"
      ]
     },
     "metadata": {},
     "execution_count": 15
    }
   ],
   "source": [
    "df.loc['C'] #using .loc() "
   ]
  },
  {
   "cell_type": "code",
   "execution_count": 16,
   "metadata": {
    "execution": {
     "iopub.execute_input": "2020-09-03T13:17:54.633427Z",
     "iopub.status.busy": "2020-09-03T13:17:54.632723Z",
     "iopub.status.idle": "2020-09-03T13:17:54.637482Z",
     "shell.execute_reply": "2020-09-03T13:17:54.636986Z"
    },
    "papermill": {
     "duration": 0.021957,
     "end_time": "2020-09-03T13:17:54.637628",
     "exception": false,
     "start_time": "2020-09-03T13:17:54.615671",
     "status": "completed"
    },
    "tags": []
   },
   "outputs": [
    {
     "output_type": "execute_result",
     "data": {
      "text/plain": [
       "W   -2.018168\n",
       "X    0.740122\n",
       "Y    0.528813\n",
       "Z   -0.589001\n",
       "Name: C, dtype: float64"
      ]
     },
     "metadata": {},
     "execution_count": 16
    }
   ],
   "source": [
    "df.iloc[2] #using .iloc()"
   ]
  },
  {
   "cell_type": "code",
   "execution_count": 17,
   "metadata": {
    "execution": {
     "iopub.execute_input": "2020-09-03T13:17:54.670739Z",
     "iopub.status.busy": "2020-09-03T13:17:54.670140Z",
     "iopub.status.idle": "2020-09-03T13:17:54.674710Z",
     "shell.execute_reply": "2020-09-03T13:17:54.675328Z"
    },
    "papermill": {
     "duration": 0.02596,
     "end_time": "2020-09-03T13:17:54.675458",
     "exception": false,
     "start_time": "2020-09-03T13:17:54.649498",
     "status": "completed"
    },
    "tags": []
   },
   "outputs": [
    {
     "output_type": "execute_result",
     "data": {
      "text/plain": [
       "          X\n",
       "A  0.628133\n",
       "B -0.319318\n",
       "C  0.740122\n",
       "D -0.758872"
      ],
      "text/html": "<div>\n<style scoped>\n    .dataframe tbody tr th:only-of-type {\n        vertical-align: middle;\n    }\n\n    .dataframe tbody tr th {\n        vertical-align: top;\n    }\n\n    .dataframe thead th {\n        text-align: right;\n    }\n</style>\n<table border=\"1\" class=\"dataframe\">\n  <thead>\n    <tr style=\"text-align: right;\">\n      <th></th>\n      <th>X</th>\n    </tr>\n  </thead>\n  <tbody>\n    <tr>\n      <th>A</th>\n      <td>0.628133</td>\n    </tr>\n    <tr>\n      <th>B</th>\n      <td>-0.319318</td>\n    </tr>\n    <tr>\n      <th>C</th>\n      <td>0.740122</td>\n    </tr>\n    <tr>\n      <th>D</th>\n      <td>-0.758872</td>\n    </tr>\n  </tbody>\n</table>\n</div>"
     },
     "metadata": {},
     "execution_count": 17
    }
   ],
   "source": [
    "df[['X']] #fetching the column"
   ]
  },
  {
   "cell_type": "code",
   "execution_count": 18,
   "metadata": {
    "execution": {
     "iopub.execute_input": "2020-09-03T13:17:54.705041Z",
     "iopub.status.busy": "2020-09-03T13:17:54.704272Z",
     "iopub.status.idle": "2020-09-03T13:17:54.710287Z",
     "shell.execute_reply": "2020-09-03T13:17:54.709670Z"
    },
    "papermill": {
     "duration": 0.022682,
     "end_time": "2020-09-03T13:17:54.710383",
     "exception": false,
     "start_time": "2020-09-03T13:17:54.687701",
     "status": "completed"
    },
    "tags": []
   },
   "outputs": [
    {
     "output_type": "execute_result",
     "data": {
      "text/plain": [
       "-0.8480769834036315"
      ]
     },
     "metadata": {},
     "execution_count": 18
    }
   ],
   "source": [
    "df.loc['B','Y'] #we can pass the row name and column name in .loc to get a specific value"
   ]
  },
  {
   "cell_type": "markdown",
   "metadata": {
    "papermill": {
     "duration": 0.011729,
     "end_time": "2020-09-03T13:17:54.734112",
     "exception": false,
     "start_time": "2020-09-03T13:17:54.722383",
     "status": "completed"
    },
    "tags": []
   },
   "source": [
    "Suppose you wish to get a subset of your DataFrame, then .loc will help you in doing so. Lets see how."
   ]
  },
  {
   "cell_type": "code",
   "execution_count": 19,
   "metadata": {
    "execution": {
     "iopub.execute_input": "2020-09-03T13:17:54.770501Z",
     "iopub.status.busy": "2020-09-03T13:17:54.769664Z",
     "iopub.status.idle": "2020-09-03T13:17:54.773786Z",
     "shell.execute_reply": "2020-09-03T13:17:54.774265Z"
    },
    "papermill": {
     "duration": 0.027482,
     "end_time": "2020-09-03T13:17:54.774392",
     "exception": false,
     "start_time": "2020-09-03T13:17:54.746910",
     "status": "completed"
    },
    "tags": []
   },
   "outputs": [
    {
     "output_type": "execute_result",
     "data": {
      "text/plain": [
       "          W         Y\n",
       "A  2.706850  0.907969\n",
       "B  0.651118 -0.848077"
      ],
      "text/html": "<div>\n<style scoped>\n    .dataframe tbody tr th:only-of-type {\n        vertical-align: middle;\n    }\n\n    .dataframe tbody tr th {\n        vertical-align: top;\n    }\n\n    .dataframe thead th {\n        text-align: right;\n    }\n</style>\n<table border=\"1\" class=\"dataframe\">\n  <thead>\n    <tr style=\"text-align: right;\">\n      <th></th>\n      <th>W</th>\n      <th>Y</th>\n    </tr>\n  </thead>\n  <tbody>\n    <tr>\n      <th>A</th>\n      <td>2.706850</td>\n      <td>0.907969</td>\n    </tr>\n    <tr>\n      <th>B</th>\n      <td>0.651118</td>\n      <td>-0.848077</td>\n    </tr>\n  </tbody>\n</table>\n</div>"
     },
     "metadata": {},
     "execution_count": 19
    }
   ],
   "source": [
    "df.loc[['A','B'],['W','Y']] #we passed the columns that we need and the rows that we need and we got the info that we needed"
   ]
  },
  {
   "cell_type": "markdown",
   "metadata": {
    "papermill": {
     "duration": 0.011994,
     "end_time": "2020-09-03T13:17:54.798658",
     "exception": false,
     "start_time": "2020-09-03T13:17:54.786664",
     "status": "completed"
    },
    "tags": []
   },
   "source": [
    "# Conditional Selection\n",
    "---\n",
    "Sometimes we will need to retrieve some values from DataFrame based on some condition, this is when conditonal selection comes into picture. Lets see how we can implement it."
   ]
  },
  {
   "cell_type": "code",
   "execution_count": 21,
   "metadata": {
    "execution": {
     "iopub.execute_input": "2020-09-03T13:17:54.832179Z",
     "iopub.status.busy": "2020-09-03T13:17:54.831540Z",
     "iopub.status.idle": "2020-09-03T13:17:54.835896Z",
     "shell.execute_reply": "2020-09-03T13:17:54.835021Z"
    },
    "papermill": {
     "duration": 0.025299,
     "end_time": "2020-09-03T13:17:54.836046",
     "exception": false,
     "start_time": "2020-09-03T13:17:54.810747",
     "status": "completed"
    },
    "tags": []
   },
   "outputs": [
    {
     "output_type": "stream",
     "name": "stdout",
     "text": [
      "          W         X         Y         Z\nA  2.706850  0.628133  0.907969  0.503826\nB  0.651118       NaN       NaN  0.605965\nC       NaN  0.740122  0.528813       NaN\nD  0.188695       NaN       NaN  0.955057\n"
     ]
    }
   ],
   "source": [
    "booldf = df > 0\n",
    "print(df[booldf])"
   ]
  },
  {
   "cell_type": "markdown",
   "metadata": {
    "papermill": {
     "duration": 0.019307,
     "end_time": "2020-09-03T13:17:54.876003",
     "exception": false,
     "start_time": "2020-09-03T13:17:54.856696",
     "status": "completed"
    },
    "tags": []
   },
   "source": [
    "As we can see, where ever the value was less than 0, we are getting NaN values. We can do this by passing specific columns as well."
   ]
  },
  {
   "cell_type": "code",
   "execution_count": 22,
   "metadata": {
    "execution": {
     "iopub.execute_input": "2020-09-03T13:17:54.923573Z",
     "iopub.status.busy": "2020-09-03T13:17:54.922993Z",
     "iopub.status.idle": "2020-09-03T13:17:54.930296Z",
     "shell.execute_reply": "2020-09-03T13:17:54.931095Z"
    },
    "papermill": {
     "duration": 0.035612,
     "end_time": "2020-09-03T13:17:54.931242",
     "exception": false,
     "start_time": "2020-09-03T13:17:54.895630",
     "status": "completed"
    },
    "tags": []
   },
   "outputs": [
    {
     "output_type": "execute_result",
     "data": {
      "text/plain": [
       "          W         X         Y         Z\n",
       "A  2.706850  0.628133  0.907969  0.503826\n",
       "C -2.018168  0.740122  0.528813 -0.589001"
      ],
      "text/html": "<div>\n<style scoped>\n    .dataframe tbody tr th:only-of-type {\n        vertical-align: middle;\n    }\n\n    .dataframe tbody tr th {\n        vertical-align: top;\n    }\n\n    .dataframe thead th {\n        text-align: right;\n    }\n</style>\n<table border=\"1\" class=\"dataframe\">\n  <thead>\n    <tr style=\"text-align: right;\">\n      <th></th>\n      <th>W</th>\n      <th>X</th>\n      <th>Y</th>\n      <th>Z</th>\n    </tr>\n  </thead>\n  <tbody>\n    <tr>\n      <th>A</th>\n      <td>2.706850</td>\n      <td>0.628133</td>\n      <td>0.907969</td>\n      <td>0.503826</td>\n    </tr>\n    <tr>\n      <th>C</th>\n      <td>-2.018168</td>\n      <td>0.740122</td>\n      <td>0.528813</td>\n      <td>-0.589001</td>\n    </tr>\n  </tbody>\n</table>\n</div>"
     },
     "metadata": {},
     "execution_count": 22
    }
   ],
   "source": [
    "df[df['X'] > 0] #this returns where ever we have values in X column greater than 0"
   ]
  },
  {
   "cell_type": "markdown",
   "metadata": {
    "papermill": {
     "duration": 0.019778,
     "end_time": "2020-09-03T13:17:54.971339",
     "exception": false,
     "start_time": "2020-09-03T13:17:54.951561",
     "status": "completed"
    },
    "tags": []
   },
   "source": [
    "We can also give multiple Conditions and select columns and rows on that basis. Here's how we do it."
   ]
  },
  {
   "cell_type": "code",
   "execution_count": 23,
   "metadata": {
    "execution": {
     "iopub.execute_input": "2020-09-03T13:17:55.023084Z",
     "iopub.status.busy": "2020-09-03T13:17:55.022257Z",
     "iopub.status.idle": "2020-09-03T13:17:55.027142Z",
     "shell.execute_reply": "2020-09-03T13:17:55.026611Z"
    },
    "papermill": {
     "duration": 0.035588,
     "end_time": "2020-09-03T13:17:55.027240",
     "exception": false,
     "start_time": "2020-09-03T13:17:54.991652",
     "status": "completed"
    },
    "tags": []
   },
   "outputs": [
    {
     "output_type": "execute_result",
     "data": {
      "text/plain": [
       "         W         X         Y         Z\n",
       "A  2.70685  0.628133  0.907969  0.503826"
      ],
      "text/html": "<div>\n<style scoped>\n    .dataframe tbody tr th:only-of-type {\n        vertical-align: middle;\n    }\n\n    .dataframe tbody tr th {\n        vertical-align: top;\n    }\n\n    .dataframe thead th {\n        text-align: right;\n    }\n</style>\n<table border=\"1\" class=\"dataframe\">\n  <thead>\n    <tr style=\"text-align: right;\">\n      <th></th>\n      <th>W</th>\n      <th>X</th>\n      <th>Y</th>\n      <th>Z</th>\n    </tr>\n  </thead>\n  <tbody>\n    <tr>\n      <th>A</th>\n      <td>2.70685</td>\n      <td>0.628133</td>\n      <td>0.907969</td>\n      <td>0.503826</td>\n    </tr>\n  </tbody>\n</table>\n</div>"
     },
     "metadata": {},
     "execution_count": 23
    }
   ],
   "source": [
    "df[(df['W']>0) & (df['Y']>0)] #condition to check where both W and Y are greater than 0"
   ]
  },
  {
   "cell_type": "markdown",
   "metadata": {
    "papermill": {
     "duration": 0.012356,
     "end_time": "2020-09-03T13:17:55.052718",
     "exception": false,
     "start_time": "2020-09-03T13:17:55.040362",
     "status": "completed"
    },
    "tags": []
   },
   "source": [
    "# Reseting Index\n",
    "---\n",
    "Sometimes you might have alphabets as your index values but you wish to have numeric value instead, so you can just use the *.reset_index()* method and you will have new numerical index values."
   ]
  },
  {
   "cell_type": "code",
   "execution_count": 24,
   "metadata": {
    "execution": {
     "iopub.execute_input": "2020-09-03T13:17:55.089912Z",
     "iopub.status.busy": "2020-09-03T13:17:55.089212Z",
     "iopub.status.idle": "2020-09-03T13:17:55.093710Z",
     "shell.execute_reply": "2020-09-03T13:17:55.094185Z"
    },
    "papermill": {
     "duration": 0.028834,
     "end_time": "2020-09-03T13:17:55.094308",
     "exception": false,
     "start_time": "2020-09-03T13:17:55.065474",
     "status": "completed"
    },
    "tags": []
   },
   "outputs": [
    {
     "output_type": "execute_result",
     "data": {
      "text/plain": [
       "  index         W         X         Y         Z\n",
       "0     A  2.706850  0.628133  0.907969  0.503826\n",
       "1     B  0.651118 -0.319318 -0.848077  0.605965\n",
       "2     C -2.018168  0.740122  0.528813 -0.589001\n",
       "3     D  0.188695 -0.758872 -0.933237  0.955057"
      ],
      "text/html": "<div>\n<style scoped>\n    .dataframe tbody tr th:only-of-type {\n        vertical-align: middle;\n    }\n\n    .dataframe tbody tr th {\n        vertical-align: top;\n    }\n\n    .dataframe thead th {\n        text-align: right;\n    }\n</style>\n<table border=\"1\" class=\"dataframe\">\n  <thead>\n    <tr style=\"text-align: right;\">\n      <th></th>\n      <th>index</th>\n      <th>W</th>\n      <th>X</th>\n      <th>Y</th>\n      <th>Z</th>\n    </tr>\n  </thead>\n  <tbody>\n    <tr>\n      <th>0</th>\n      <td>A</td>\n      <td>2.706850</td>\n      <td>0.628133</td>\n      <td>0.907969</td>\n      <td>0.503826</td>\n    </tr>\n    <tr>\n      <th>1</th>\n      <td>B</td>\n      <td>0.651118</td>\n      <td>-0.319318</td>\n      <td>-0.848077</td>\n      <td>0.605965</td>\n    </tr>\n    <tr>\n      <th>2</th>\n      <td>C</td>\n      <td>-2.018168</td>\n      <td>0.740122</td>\n      <td>0.528813</td>\n      <td>-0.589001</td>\n    </tr>\n    <tr>\n      <th>3</th>\n      <td>D</td>\n      <td>0.188695</td>\n      <td>-0.758872</td>\n      <td>-0.933237</td>\n      <td>0.955057</td>\n    </tr>\n  </tbody>\n</table>\n</div>"
     },
     "metadata": {},
     "execution_count": 24
    }
   ],
   "source": [
    "df.reset_index() #this gives us a column with numerical index"
   ]
  },
  {
   "cell_type": "markdown",
   "metadata": {
    "papermill": {
     "duration": 0.012717,
     "end_time": "2020-09-03T13:17:55.120107",
     "exception": false,
     "start_time": "2020-09-03T13:17:55.107390",
     "status": "completed"
    },
    "tags": []
   },
   "source": [
    "# Missing Data\n",
    "---\n",
    "Any data that you get will always have some sort of missing values, its very rare that you get a data without any missing values.In this section we will learn how to deal with the missing values."
   ]
  },
  {
   "cell_type": "code",
   "execution_count": 25,
   "metadata": {
    "execution": {
     "iopub.execute_input": "2020-09-03T13:17:55.155059Z",
     "iopub.status.busy": "2020-09-03T13:17:55.154237Z",
     "iopub.status.idle": "2020-09-03T13:17:55.158527Z",
     "shell.execute_reply": "2020-09-03T13:17:55.158018Z"
    },
    "papermill": {
     "duration": 0.025519,
     "end_time": "2020-09-03T13:17:55.158621",
     "exception": false,
     "start_time": "2020-09-03T13:17:55.133102",
     "status": "completed"
    },
    "tags": []
   },
   "outputs": [
    {
     "output_type": "stream",
     "name": "stdout",
     "text": [
      "     A    B  C\n0  1.0  5.0  1\n1  2.0  NaN  2\n2  NaN  NaN  3\n"
     ]
    }
   ],
   "source": [
    "d = {'A':[1,2,np.nan],'B':[5,np.nan,np.nan],'C':[1,2,3]} #creating a new data set\n",
    "df1 = pd.DataFrame(d)\n",
    "print(df1)"
   ]
  },
  {
   "cell_type": "markdown",
   "metadata": {
    "papermill": {
     "duration": 0.014652,
     "end_time": "2020-09-03T13:17:55.190361",
     "exception": false,
     "start_time": "2020-09-03T13:17:55.175709",
     "status": "completed"
    },
    "tags": []
   },
   "source": [
    "As we can see we have a new data set with NaN values in it and we will be performing all our operations on it. Many a times these NaN values are very less in number and can be discarded. For this purpose we use the *'.dropna()* method. This will drop all the NaN values in our data."
   ]
  },
  {
   "cell_type": "code",
   "execution_count": 26,
   "metadata": {
    "execution": {
     "iopub.execute_input": "2020-09-03T13:17:55.226475Z",
     "iopub.status.busy": "2020-09-03T13:17:55.220949Z",
     "iopub.status.idle": "2020-09-03T13:17:55.232704Z",
     "shell.execute_reply": "2020-09-03T13:17:55.232118Z"
    },
    "papermill": {
     "duration": 0.029258,
     "end_time": "2020-09-03T13:17:55.232802",
     "exception": false,
     "start_time": "2020-09-03T13:17:55.203544",
     "status": "completed"
    },
    "tags": []
   },
   "outputs": [
    {
     "output_type": "execute_result",
     "data": {
      "text/plain": [
       "     A    B  C\n",
       "0  1.0  5.0  1"
      ],
      "text/html": "<div>\n<style scoped>\n    .dataframe tbody tr th:only-of-type {\n        vertical-align: middle;\n    }\n\n    .dataframe tbody tr th {\n        vertical-align: top;\n    }\n\n    .dataframe thead th {\n        text-align: right;\n    }\n</style>\n<table border=\"1\" class=\"dataframe\">\n  <thead>\n    <tr style=\"text-align: right;\">\n      <th></th>\n      <th>A</th>\n      <th>B</th>\n      <th>C</th>\n    </tr>\n  </thead>\n  <tbody>\n    <tr>\n      <th>0</th>\n      <td>1.0</td>\n      <td>5.0</td>\n      <td>1</td>\n    </tr>\n  </tbody>\n</table>\n</div>"
     },
     "metadata": {},
     "execution_count": 26
    }
   ],
   "source": [
    "df1.dropna() #dropped all the rows with NaN values"
   ]
  },
  {
   "cell_type": "markdown",
   "metadata": {
    "papermill": {
     "duration": 0.013006,
     "end_time": "2020-09-03T13:17:55.259126",
     "exception": false,
     "start_time": "2020-09-03T13:17:55.246120",
     "status": "completed"
    },
    "tags": []
   },
   "source": [
    "Sometimes the amount of NaN values might be huge so in that case we cant just discard them. We will have to fill them up. We use the *.fillna()* method to do so."
   ]
  },
  {
   "cell_type": "code",
   "execution_count": 27,
   "metadata": {
    "execution": {
     "iopub.execute_input": "2020-09-03T13:17:55.292951Z",
     "iopub.status.busy": "2020-09-03T13:17:55.292119Z",
     "iopub.status.idle": "2020-09-03T13:17:55.296524Z",
     "shell.execute_reply": "2020-09-03T13:17:55.297019Z"
    },
    "papermill": {
     "duration": 0.024909,
     "end_time": "2020-09-03T13:17:55.297144",
     "exception": false,
     "start_time": "2020-09-03T13:17:55.272235",
     "status": "completed"
    },
    "tags": []
   },
   "outputs": [
    {
     "output_type": "stream",
     "name": "stdout",
     "text": [
      "     A    B  C\n0  1.0  5.0  1\n1  2.0  0.0  2\n2  0.0  0.0  3\n"
     ]
    }
   ],
   "source": [
    "print(df1.fillna(value = 0)) #filling up all the NaN values with 0"
   ]
  },
  {
   "cell_type": "markdown",
   "metadata": {
    "papermill": {
     "duration": 0.01302,
     "end_time": "2020-09-03T13:17:55.323590",
     "exception": false,
     "start_time": "2020-09-03T13:17:55.310570",
     "status": "completed"
    },
    "tags": []
   },
   "source": [
    "# GroupBy\n",
    "---\n",
    "It is used to group the data present in thee column on basis of the parameters that are provided. Lets see how its actually implemented.\n",
    "\n",
    "* **Command** - \n",
    "* df.groupby('parameter') - We can group our data on basis of some parameter that we need to provide"
   ]
  },
  {
   "cell_type": "code",
   "execution_count": 28,
   "metadata": {
    "execution": {
     "iopub.execute_input": "2020-09-03T13:17:55.359823Z",
     "iopub.status.busy": "2020-09-03T13:17:55.358999Z",
     "iopub.status.idle": "2020-09-03T13:17:55.363609Z",
     "shell.execute_reply": "2020-09-03T13:17:55.363000Z"
    },
    "papermill": {
     "duration": 0.027013,
     "end_time": "2020-09-03T13:17:55.363707",
     "exception": false,
     "start_time": "2020-09-03T13:17:55.336694",
     "status": "completed"
    },
    "tags": []
   },
   "outputs": [
    {
     "output_type": "stream",
     "name": "stdout",
     "text": [
      "  Company Person  Sales\n0       A    Sam    200\n1       A  Rohit    120\n2       B   Yash    340\n3       B   Dave    124\n"
     ]
    }
   ],
   "source": [
    "#creatinf or new data frame\n",
    "data = {'Company':['A','A','B','B'],\n",
    "       'Person':['Sam','Rohit','Yash','Dave'],\n",
    "       'Sales':[200,120,340,124]}\n",
    "df2 = pd.DataFrame(data)\n",
    "print(df2)"
   ]
  },
  {
   "cell_type": "code",
   "execution_count": 29,
   "metadata": {
    "execution": {
     "iopub.execute_input": "2020-09-03T13:17:55.441355Z",
     "iopub.status.busy": "2020-09-03T13:17:55.440680Z",
     "iopub.status.idle": "2020-09-03T13:17:55.445721Z",
     "shell.execute_reply": "2020-09-03T13:17:55.445205Z"
    },
    "papermill": {
     "duration": 0.032594,
     "end_time": "2020-09-03T13:17:55.445861",
     "exception": false,
     "start_time": "2020-09-03T13:17:55.413267",
     "status": "completed"
    },
    "tags": []
   },
   "outputs": [
    {
     "output_type": "execute_result",
     "data": {
      "text/plain": [
       "         Sales\n",
       "Company       \n",
       "A          160\n",
       "B          232"
      ],
      "text/html": "<div>\n<style scoped>\n    .dataframe tbody tr th:only-of-type {\n        vertical-align: middle;\n    }\n\n    .dataframe tbody tr th {\n        vertical-align: top;\n    }\n\n    .dataframe thead th {\n        text-align: right;\n    }\n</style>\n<table border=\"1\" class=\"dataframe\">\n  <thead>\n    <tr style=\"text-align: right;\">\n      <th></th>\n      <th>Sales</th>\n    </tr>\n    <tr>\n      <th>Company</th>\n      <th></th>\n    </tr>\n  </thead>\n  <tbody>\n    <tr>\n      <th>A</th>\n      <td>160</td>\n    </tr>\n    <tr>\n      <th>B</th>\n      <td>232</td>\n    </tr>\n  </tbody>\n</table>\n</div>"
     },
     "metadata": {},
     "execution_count": 29
    }
   ],
   "source": [
    "comp = df2.groupby('Company') #we grouped our data on basis of Comapnies and then called the mean off of it.\n",
    "comp.mean()"
   ]
  },
  {
   "cell_type": "markdown",
   "metadata": {
    "papermill": {
     "duration": 0.013365,
     "end_time": "2020-09-03T13:17:55.473132",
     "exception": false,
     "start_time": "2020-09-03T13:17:55.459767",
     "status": "completed"
    },
    "tags": []
   },
   "source": [
    "we can also use the *.describe()* to get all the values like min,max,mean etc of our DataFrame."
   ]
  },
  {
   "cell_type": "code",
   "execution_count": 30,
   "metadata": {
    "execution": {
     "iopub.execute_input": "2020-09-03T13:17:55.513229Z",
     "iopub.status.busy": "2020-09-03T13:17:55.512619Z",
     "iopub.status.idle": "2020-09-03T13:17:55.544934Z",
     "shell.execute_reply": "2020-09-03T13:17:55.544307Z"
    },
    "papermill": {
     "duration": 0.058072,
     "end_time": "2020-09-03T13:17:55.545033",
     "exception": false,
     "start_time": "2020-09-03T13:17:55.486961",
     "status": "completed"
    },
    "tags": []
   },
   "outputs": [
    {
     "output_type": "execute_result",
     "data": {
      "text/plain": [
       "        Sales                                                      \n",
       "        count   mean         std    min    25%    50%    75%    max\n",
       "Company                                                            \n",
       "A         2.0  160.0   56.568542  120.0  140.0  160.0  180.0  200.0\n",
       "B         2.0  232.0  152.735065  124.0  178.0  232.0  286.0  340.0"
      ],
      "text/html": "<div>\n<style scoped>\n    .dataframe tbody tr th:only-of-type {\n        vertical-align: middle;\n    }\n\n    .dataframe tbody tr th {\n        vertical-align: top;\n    }\n\n    .dataframe thead tr th {\n        text-align: left;\n    }\n\n    .dataframe thead tr:last-of-type th {\n        text-align: right;\n    }\n</style>\n<table border=\"1\" class=\"dataframe\">\n  <thead>\n    <tr>\n      <th></th>\n      <th colspan=\"8\" halign=\"left\">Sales</th>\n    </tr>\n    <tr>\n      <th></th>\n      <th>count</th>\n      <th>mean</th>\n      <th>std</th>\n      <th>min</th>\n      <th>25%</th>\n      <th>50%</th>\n      <th>75%</th>\n      <th>max</th>\n    </tr>\n    <tr>\n      <th>Company</th>\n      <th></th>\n      <th></th>\n      <th></th>\n      <th></th>\n      <th></th>\n      <th></th>\n      <th></th>\n      <th></th>\n    </tr>\n  </thead>\n  <tbody>\n    <tr>\n      <th>A</th>\n      <td>2.0</td>\n      <td>160.0</td>\n      <td>56.568542</td>\n      <td>120.0</td>\n      <td>140.0</td>\n      <td>160.0</td>\n      <td>180.0</td>\n      <td>200.0</td>\n    </tr>\n    <tr>\n      <th>B</th>\n      <td>2.0</td>\n      <td>232.0</td>\n      <td>152.735065</td>\n      <td>124.0</td>\n      <td>178.0</td>\n      <td>232.0</td>\n      <td>286.0</td>\n      <td>340.0</td>\n    </tr>\n  </tbody>\n</table>\n</div>"
     },
     "metadata": {},
     "execution_count": 30
    }
   ],
   "source": [
    "df2.groupby('Company').describe()"
   ]
  },
  {
   "cell_type": "markdown",
   "metadata": {
    "papermill": {
     "duration": 0.01347,
     "end_time": "2020-09-03T13:17:55.572507",
     "exception": false,
     "start_time": "2020-09-03T13:17:55.559037",
     "status": "completed"
    },
    "tags": []
   },
   "source": [
    "# Operations on DataFrames\n",
    "---\n",
    "* **Commands** - \n",
    "* df.nunique() - Gives us the number of Unique values in a particular column\n",
    "* df.value_counts - Gives us the number of times the unique values occuered in our DataFrame\n",
    "* df.apply() - Can be used to apply some functiont to your data set\n",
    "* df.sort_values() - Sorts the values of a particular column in ascending order that is passed into it"
   ]
  },
  {
   "cell_type": "code",
   "execution_count": 31,
   "metadata": {
    "execution": {
     "iopub.execute_input": "2020-09-03T13:17:55.606270Z",
     "iopub.status.busy": "2020-09-03T13:17:55.605495Z",
     "iopub.status.idle": "2020-09-03T13:17:55.610159Z",
     "shell.execute_reply": "2020-09-03T13:17:55.609640Z"
    },
    "papermill": {
     "duration": 0.02403,
     "end_time": "2020-09-03T13:17:55.610257",
     "exception": false,
     "start_time": "2020-09-03T13:17:55.586227",
     "status": "completed"
    },
    "tags": []
   },
   "outputs": [
    {
     "output_type": "execute_result",
     "data": {
      "text/plain": [
       "2"
      ]
     },
     "metadata": {},
     "execution_count": 31
    }
   ],
   "source": [
    "df2['Company'].nunique() #checking how many companies we have"
   ]
  },
  {
   "cell_type": "code",
   "execution_count": 32,
   "metadata": {
    "execution": {
     "iopub.execute_input": "2020-09-03T13:17:55.646474Z",
     "iopub.status.busy": "2020-09-03T13:17:55.645774Z",
     "iopub.status.idle": "2020-09-03T13:17:55.650126Z",
     "shell.execute_reply": "2020-09-03T13:17:55.650601Z"
    },
    "papermill": {
     "duration": 0.026224,
     "end_time": "2020-09-03T13:17:55.650732",
     "exception": false,
     "start_time": "2020-09-03T13:17:55.624508",
     "status": "completed"
    },
    "tags": []
   },
   "outputs": [
    {
     "output_type": "execute_result",
     "data": {
      "text/plain": [
       "Sam      1\n",
       "Rohit    1\n",
       "Dave     1\n",
       "Yash     1\n",
       "Name: Person, dtype: int64"
      ]
     },
     "metadata": {},
     "execution_count": 32
    }
   ],
   "source": [
    "df2['Person'].value_counts() #checks the number of occurences of each name in that column"
   ]
  },
  {
   "cell_type": "code",
   "execution_count": 33,
   "metadata": {
    "execution": {
     "iopub.execute_input": "2020-09-03T13:17:55.687027Z",
     "iopub.status.busy": "2020-09-03T13:17:55.686197Z",
     "iopub.status.idle": "2020-09-03T13:17:55.692347Z",
     "shell.execute_reply": "2020-09-03T13:17:55.691813Z"
    },
    "papermill": {
     "duration": 0.027061,
     "end_time": "2020-09-03T13:17:55.692447",
     "exception": false,
     "start_time": "2020-09-03T13:17:55.665386",
     "status": "completed"
    },
    "tags": []
   },
   "outputs": [
    {
     "output_type": "execute_result",
     "data": {
      "text/plain": [
       "0    400\n",
       "1    240\n",
       "2    680\n",
       "3    248\n",
       "Name: Sales, dtype: int64"
      ]
     },
     "metadata": {},
     "execution_count": 33
    }
   ],
   "source": [
    "#doubles tha no. of sales in each row\n",
    "def time(x):\n",
    "    return x*2\n",
    "\n",
    "df2['Sales'].apply(time)"
   ]
  },
  {
   "cell_type": "code",
   "execution_count": 34,
   "metadata": {
    "execution": {
     "iopub.execute_input": "2020-09-03T13:17:55.729028Z",
     "iopub.status.busy": "2020-09-03T13:17:55.728143Z",
     "iopub.status.idle": "2020-09-03T13:17:55.733351Z",
     "shell.execute_reply": "2020-09-03T13:17:55.734337Z"
    },
    "papermill": {
     "duration": 0.027553,
     "end_time": "2020-09-03T13:17:55.734526",
     "exception": false,
     "start_time": "2020-09-03T13:17:55.706973",
     "status": "completed"
    },
    "tags": []
   },
   "outputs": [
    {
     "output_type": "execute_result",
     "data": {
      "text/plain": [
       "1    120\n",
       "3    124\n",
       "0    200\n",
       "2    340\n",
       "Name: Sales, dtype: int64"
      ]
     },
     "metadata": {},
     "execution_count": 34
    }
   ],
   "source": [
    "#sorts the values of the Sales column in Ascending order\n",
    "df2['Sales'].sort_values() "
   ]
  },
  {
   "cell_type": "markdown",
   "metadata": {
    "papermill": {
     "duration": 0.014496,
     "end_time": "2020-09-03T13:17:55.764434",
     "exception": false,
     "start_time": "2020-09-03T13:17:55.749938",
     "status": "completed"
    },
    "tags": []
   },
   "source": [
    "# Working with CSV files and Excel Sheets\n",
    "---\n",
    "CSV stands for Comma seperated files and you will find yourself working mostly with CSV files. In this section we will see how we can import our CSV files using Pandas and how to save our DataFrame back to CSV format. We will do the same thing for Excel sheets  as well."
   ]
  },
  {
   "cell_type": "markdown",
   "metadata": {
    "papermill": {
     "duration": 0.014119,
     "end_time": "2020-09-03T13:17:55.792945",
     "exception": false,
     "start_time": "2020-09-03T13:17:55.778826",
     "status": "completed"
    },
    "tags": []
   },
   "source": [
    "* **To Read a CSV file** - \n",
    "* df = pd.read_csv('example.csv') - Thats all you have to do to read a CSV file. If your notebook and file are in the same folder then there wont be any issues but if your file is in some other location then you can just copy the path of the file and paste it inside the method.\n",
    "\n",
    "* **To save the CSV file** - \n",
    "* df.to_csv('My_output.csv') -  This will save your response in a CSV format in the same folder as your Notebook."
   ]
  },
  {
   "cell_type": "markdown",
   "metadata": {
    "papermill": {
     "duration": 0.014029,
     "end_time": "2020-09-03T13:17:55.821155",
     "exception": false,
     "start_time": "2020-09-03T13:17:55.807126",
     "status": "completed"
    },
    "tags": []
   },
   "source": [
    "* **To Read an Excel sheet** -\n",
    "* df = pd.read_excel('example.xlsx',sheetname = 'sheet 1) - Thats all you have to do to read an Excel file. Dont forget to mention the sheet number if the file has multiple sheets.\n",
    "\n",
    "* **To save the Excel file** - \n",
    "* df.to_excel('My_output.xlsx') -  This will save your response in an Excel file format in the same folder as your Notebook."
   ]
  },
  {
   "cell_type": "markdown",
   "metadata": {
    "papermill": {
     "duration": 0.014022,
     "end_time": "2020-09-03T13:17:55.849483",
     "exception": false,
     "start_time": "2020-09-03T13:17:55.835461",
     "status": "completed"
    },
    "tags": []
   },
   "source": [
    "With this we come to an end to our notebook on Pandas. We recommend you to go through this notebook again as we have covered a lot of essential things that you will need in your Data Science. All the Best!"
   ]
  }
 ],
 "metadata": {
  "kernelspec": {
   "display_name": "Python 3",
   "language": "python",
   "name": "python3"
  },
  "language_info": {
   "codemirror_mode": {
    "name": "ipython",
    "version": 3
   },
   "file_extension": ".py",
   "mimetype": "text/x-python",
   "name": "python",
   "nbconvert_exporter": "python",
   "pygments_lexer": "ipython3",
   "version": "3.8.3-final"
  },
  "papermill": {
   "duration": 7.256104,
   "end_time": "2020-09-03T13:17:56.000423",
   "environment_variables": {},
   "exception": null,
   "input_path": "__notebook__.ipynb",
   "output_path": "__notebook__.ipynb",
   "parameters": {},
   "start_time": "2020-09-03T13:17:48.744319",
   "version": "2.1.0"
  }
 },
 "nbformat": 4,
 "nbformat_minor": 4
}