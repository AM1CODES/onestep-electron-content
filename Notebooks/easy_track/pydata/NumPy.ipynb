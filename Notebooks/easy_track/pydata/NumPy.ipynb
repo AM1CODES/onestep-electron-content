{
 "metadata": {
  "language_info": {
   "codemirror_mode": {
    "name": "ipython",
    "version": 3
   },
   "file_extension": ".py",
   "mimetype": "text/x-python",
   "name": "python",
   "nbconvert_exporter": "python",
   "pygments_lexer": "ipython3",
   "version": "3.8.3-final"
  },
  "orig_nbformat": 2,
  "kernelspec": {
   "name": "python3",
   "display_name": "Python 3.8.3 64-bit ('base': conda)",
   "metadata": {
    "interpreter": {
     "hash": "7383003b210fdacca9bf7683d9d1d561f4a72c77adad40daede406a89507eb7d"
    }
   }
  }
 },
 "nbformat": 4,
 "nbformat_minor": 2,
 "cells": [
  {
   "cell_type": "markdown",
   "metadata": {},
   "source": [
    "# NumPy\n",
    "---\n",
    "In this tutorial, we are going to learn about NumPy and how to use it.\n",
    "\n",
    "NumPy, or simply Numpy, is a Python's linear algebra library that allows working with large, multi-dimensional arrays and matrices, along with a collection of high-level mathematical functions to operate on these arrays.\n",
    "\n",
    "One of the most important PyData libraries (used for Data Science), Numpy is used as the base for almost all other PyData libraries, hence is very important that you understand how to work with NumPy.\n",
    "\n",
    "One of the advantages that Numpy has over Python's built-in lists is its bindings with the C-programming language, which allows mathematical functions to be performed at much faster speeds as compared to on the built-in lists. \n",
    "\n",
    "Now that we have the basic idea regarding what Numpy is, let us start working with it.\n",
    "\n",
    "## Importing NumPy\n",
    "---\n",
    "Before any project in which you want to use Numpy, add the following line of code to import Numpy."
   ]
  },
  {
   "cell_type": "code",
   "execution_count": 1,
   "metadata": {},
   "outputs": [],
   "source": [
    "import numpy as np # importing numpy as np means in order to use numpy, you can simply type np "
   ]
  },
  {
   "cell_type": "markdown",
   "metadata": {},
   "source": [
    "In this tutorial, we will focus on some of the most important fundamental data types of Numpy— vectors, arrays, matrices, and we alsp be working on various number generation methods. \n",
    "\n",
    "## NumPy Arrays\n",
    "---\n",
    "\n",
    "Numpy arrays are the fundamental data type of Numpy, and is the primary way how Numpy works with data. The array object in NumPy is called ndarray.\n",
    "\n",
    "Numpy arrays essentially come in two flavors: \n",
    "* Vectors, and \n",
    "* Matrices \n",
    "\n",
    "Vectors are 1-d arrays. On the other hand, matrices are 2-d arrays of the dimension __m x n__ where m, n >= 1. This means that a matrix can still have only one row or one column.\n",
    "\n",
    "Let's have a look at the different ways that you can create a Numpy array with.\n",
    "\n",
    "### A. How to Create NumPy Arrays\n",
    "---\n",
    "\n",
    "__1. Numpy Arrays from a Python List:__\n",
    "\n",
    "We can create a numpy array by directly converting a list or list of lists. For this, we use the array() method. \n",
    "\n",
    "The following is the syntax:\n",
    "> numpy_arr = np.array(python_list)\n",
    "\n",
    "To create an ndarray, we can pass a list, tuple or any array-like object into the array() method, and it will be converted into an ndarray object."
   ]
  },
  {
   "cell_type": "code",
   "execution_count": 2,
   "metadata": {
    "tags": []
   },
   "outputs": [
    {
     "output_type": "execute_result",
     "data": {
      "text/plain": [
       "[1, 2, 3, 4, 5, 6]"
      ]
     },
     "metadata": {},
     "execution_count": 2
    }
   ],
   "source": [
    "# creating a 1D python list\n",
    "arr = [1, 2, 3, 4, 5, 6]\n",
    "arr"
   ]
  },
  {
   "cell_type": "code",
   "execution_count": 3,
   "metadata": {},
   "outputs": [
    {
     "output_type": "execute_result",
     "data": {
      "text/plain": [
       "array([1, 2, 3, 4, 5, 6])"
      ]
     },
     "metadata": {},
     "execution_count": 3
    }
   ],
   "source": [
    "# creating a numpy array from the python list\n",
    "np.array(arr)"
   ]
  },
  {
   "cell_type": "code",
   "execution_count": 4,
   "metadata": {},
   "outputs": [
    {
     "output_type": "execute_result",
     "data": {
      "text/plain": [
       "[[1, 2, 3], [4, 5, 6], [7, 8, 9]]"
      ]
     },
     "metadata": {},
     "execution_count": 4
    }
   ],
   "source": [
    "# creating a 2D python list\n",
    "matrix = [[1, 2, 3], [4, 5, 6], [7, 8, 9]]\n",
    "matrix"
   ]
  },
  {
   "cell_type": "code",
   "execution_count": 5,
   "metadata": {},
   "outputs": [
    {
     "output_type": "execute_result",
     "data": {
      "text/plain": [
       "array([[1, 2, 3],\n",
       "       [4, 5, 6],\n",
       "       [7, 8, 9]])"
      ]
     },
     "metadata": {},
     "execution_count": 5
    }
   ],
   "source": [
    "# creating a numpy array from the python list\n",
    "np.array(matrix)"
   ]
  },
  {
   "cell_type": "markdown",
   "metadata": {},
   "source": [
    "### B. Built-in Methods:\n",
    "---\n",
    "Here, we will se a bunch of built-in Numpy methods for a bunch of different array operation.\n",
    "\n",
    "#### (a). arange\n",
    "This method returns evenly spaced values within a given range. The following is the syntax:\n",
    "> np.arange(start, stop, step), where, \n",
    "* start -> Starting value \n",
    "* stop -> Right upper bound of the range \n",
    "* step -> The size of the step; number of values to skip"
   ]
  },
  {
   "cell_type": "code",
   "execution_count": 6,
   "metadata": {},
   "outputs": [
    {
     "output_type": "execute_result",
     "data": {
      "text/plain": [
       "array([0, 1, 2, 3, 4, 5, 6, 7, 8, 9])"
      ]
     },
     "metadata": {},
     "execution_count": 6
    }
   ],
   "source": [
    "# an array with all values in range 0-10 (excluding 10)\n",
    "np.arange(0, 10)"
   ]
  },
  {
   "cell_type": "code",
   "execution_count": 7,
   "metadata": {},
   "outputs": [
    {
     "output_type": "execute_result",
     "data": {
      "text/plain": [
       "array([0, 2, 4, 6, 8])"
      ]
     },
     "metadata": {},
     "execution_count": 7
    }
   ],
   "source": [
    "# an array with values in range 0-10 (excluding 10) and a step size of 2\n",
    "np.arange(0, 10, 2)"
   ]
  },
  {
   "cell_type": "markdown",
   "metadata": {},
   "source": [
    "#### (b). zeros\n",
    "\n",
    "The zeros() method returns an array of zeros. The following is the syntax-  \n",
    "> np.zeros(shape), where,\n",
    "* shape -> Shape of the array; tuple"
   ]
  },
  {
   "cell_type": "code",
   "execution_count": 8,
   "metadata": {},
   "outputs": [
    {
     "output_type": "execute_result",
     "data": {
      "text/plain": [
       "array([0., 0., 0., 0., 0., 0., 0., 0., 0., 0.])"
      ]
     },
     "metadata": {},
     "execution_count": 8
    }
   ],
   "source": [
    "# array of 0s\n",
    "np.zeros((10))"
   ]
  },
  {
   "cell_type": "code",
   "execution_count": 9,
   "metadata": {},
   "outputs": [
    {
     "output_type": "execute_result",
     "data": {
      "text/plain": [
       "array([[0., 0., 0., 0.],\n",
       "       [0., 0., 0., 0.],\n",
       "       [0., 0., 0., 0.]])"
      ]
     },
     "metadata": {},
     "execution_count": 9
    }
   ],
   "source": [
    "# matrix of 0s\n",
    "np.zeros((3,4))"
   ]
  },
  {
   "cell_type": "markdown",
   "metadata": {},
   "source": [
    "#### (c). ones\n",
    "The ones() method returns an array of ones. The following is the syntax-  \n",
    "> np.ones(shape), where,\n",
    "* shape -> Shape of the array; tuple"
   ]
  },
  {
   "cell_type": "code",
   "execution_count": 10,
   "metadata": {},
   "outputs": [
    {
     "output_type": "execute_result",
     "data": {
      "text/plain": [
       "array([1., 1., 1., 1., 1.])"
      ]
     },
     "metadata": {},
     "execution_count": 10
    }
   ],
   "source": [
    "# vector of 1s\n",
    "np.ones((5))"
   ]
  },
  {
   "cell_type": "code",
   "execution_count": 11,
   "metadata": {},
   "outputs": [
    {
     "output_type": "execute_result",
     "data": {
      "text/plain": [
       "array([[1., 1.],\n",
       "       [1., 1.],\n",
       "       [1., 1.],\n",
       "       [1., 1.]])"
      ]
     },
     "metadata": {},
     "execution_count": 11
    }
   ],
   "source": [
    "# matrix of 1s\n",
    "np.ones((4,2))"
   ]
  },
  {
   "cell_type": "markdown",
   "metadata": {},
   "source": [
    "#### (d). linspace\n",
    "This method returns evenly spaced numbers over a specific interval. The following is the syntax-\n",
    "> np.linspace(start, stop, num = 50), where,\n",
    "* start -> Starting value\n",
    "* stop -> Stopping value\n",
    "* num -> Number of evenly-spaced values between the start and stop index. "
   ]
  },
  {
   "cell_type": "code",
   "execution_count": 12,
   "metadata": {},
   "outputs": [
    {
     "output_type": "execute_result",
     "data": {
      "text/plain": [
       "array([1. , 1.5, 2. ])"
      ]
     },
     "metadata": {},
     "execution_count": 12
    }
   ],
   "source": [
    "np.linspace(1,2,3)"
   ]
  },
  {
   "cell_type": "code",
   "execution_count": 13,
   "metadata": {},
   "outputs": [
    {
     "output_type": "execute_result",
     "data": {
      "text/plain": [
       "array([  0.        ,   2.04081633,   4.08163265,   6.12244898,\n",
       "         8.16326531,  10.20408163,  12.24489796,  14.28571429,\n",
       "        16.32653061,  18.36734694,  20.40816327,  22.44897959,\n",
       "        24.48979592,  26.53061224,  28.57142857,  30.6122449 ,\n",
       "        32.65306122,  34.69387755,  36.73469388,  38.7755102 ,\n",
       "        40.81632653,  42.85714286,  44.89795918,  46.93877551,\n",
       "        48.97959184,  51.02040816,  53.06122449,  55.10204082,\n",
       "        57.14285714,  59.18367347,  61.2244898 ,  63.26530612,\n",
       "        65.30612245,  67.34693878,  69.3877551 ,  71.42857143,\n",
       "        73.46938776,  75.51020408,  77.55102041,  79.59183673,\n",
       "        81.63265306,  83.67346939,  85.71428571,  87.75510204,\n",
       "        89.79591837,  91.83673469,  93.87755102,  95.91836735,\n",
       "        97.95918367, 100.        ])"
      ]
     },
     "metadata": {},
     "execution_count": 13
    }
   ],
   "source": [
    "np.linspace(0, 100)"
   ]
  },
  {
   "cell_type": "markdown",
   "metadata": {},
   "source": [
    "#### (e). eye\n",
    "\n",
    "This method returns an identity matrix (i.e., a unique matrix that has 0 for all elements except the diagonal elements). The following is the syntax-\n",
    "> np.eye(shape), where,\n",
    "* shape -> Shape of the matrix\n"
   ]
  },
  {
   "cell_type": "code",
   "execution_count": 14,
   "metadata": {},
   "outputs": [
    {
     "output_type": "execute_result",
     "data": {
      "text/plain": [
       "array([[1., 0., 0., 0.],\n",
       "       [0., 1., 0., 0.],\n",
       "       [0., 0., 1., 0.],\n",
       "       [0., 0., 0., 1.]])"
      ]
     },
     "metadata": {},
     "execution_count": 14
    }
   ],
   "source": [
    "# creating a square identity matrix\n",
    "np.eye(4)"
   ]
  },
  {
   "cell_type": "code",
   "execution_count": 15,
   "metadata": {},
   "outputs": [
    {
     "output_type": "execute_result",
     "data": {
      "text/plain": [
       "array([[1., 0., 0.],\n",
       "       [0., 1., 0.],\n",
       "       [0., 0., 1.],\n",
       "       [0., 0., 0.]])"
      ]
     },
     "metadata": {},
     "execution_count": 15
    }
   ],
   "source": [
    "# creating an arbitrary identity matrix\n",
    "np.eye(4,3)"
   ]
  },
  {
   "cell_type": "markdown",
   "metadata": {},
   "source": [
    "### C. NumPy Random Methods\n",
    "---\n",
    "\n",
    "Numpy's random methods allow us to randomly generate and work with random integers and floating point number. In this section, we will cover some of the most important random methods.\n",
    "\n",
    "#### (a). rand\n",
    "\n",
    "The rand() method returns an array of the given shape and populates it with random samples from a ***uniform distribution***\n",
    "over the range ``[0, 1)``. The following is the syntax-\n",
    "> np.random.rand(b<sub>0</sub>, b<sub>1</sub>, b<sub>2</sub>....), where,\n",
    "* b<sub>n</sub> -> Size of n<sup>th</sup> dimension \n"
   ]
  },
  {
   "cell_type": "code",
   "execution_count": 16,
   "metadata": {},
   "outputs": [
    {
     "output_type": "execute_result",
     "data": {
      "text/plain": [
       "array([0.06399243, 0.85547936, 0.79928   , 0.33821026, 0.67997203])"
      ]
     },
     "metadata": {},
     "execution_count": 16
    }
   ],
   "source": [
    "# vector with random values between [0,1)\n",
    "np.random.rand(5)"
   ]
  },
  {
   "cell_type": "code",
   "execution_count": 17,
   "metadata": {},
   "outputs": [
    {
     "output_type": "execute_result",
     "data": {
      "text/plain": [
       "array([[0.39069786, 0.14865308],\n",
       "       [0.92114211, 0.27995269],\n",
       "       [0.35875422, 0.8048765 ]])"
      ]
     },
     "metadata": {},
     "execution_count": 17
    }
   ],
   "source": [
    "# matrix with random values between [0,1)\n",
    "np.random.rand(3, 2)"
   ]
  },
  {
   "cell_type": "markdown",
   "metadata": {},
   "source": [
    "#### (b). randn\n",
    "The randn() method, just like rand() also returns an array with randomly generated values. The only difference is that the value are samples from a ***standard normal distribution***. The following is the syntax-\n",
    "> np.random.randn(b<sub>0</sub>, b<sub>1</sub>, b<sub>2</sub>....), where,\n",
    "* b<sub>n</sub> -> Size of n<sup>th</sup> dimension \n"
   ]
  },
  {
   "cell_type": "code",
   "execution_count": 18,
   "metadata": {},
   "outputs": [
    {
     "output_type": "execute_result",
     "data": {
      "text/plain": [
       "array([-1.73560341, -1.01887197, -1.84549986, -0.2974967 , -1.4802113 ])"
      ]
     },
     "metadata": {},
     "execution_count": 18
    }
   ],
   "source": [
    "# vector with random values from a standard normal distribution\n",
    "np.random.randn(5)"
   ]
  },
  {
   "cell_type": "code",
   "execution_count": 19,
   "metadata": {},
   "outputs": [
    {
     "output_type": "execute_result",
     "data": {
      "text/plain": [
       "array([[-0.24250848, -0.59005408,  0.55390538,  0.79762847],\n",
       "       [-0.39089488, -0.01719783, -0.71743835,  0.04024788],\n",
       "       [ 0.06033217, -0.7766337 , -0.0417169 , -0.35747097]])"
      ]
     },
     "metadata": {},
     "execution_count": 19
    }
   ],
   "source": [
    "# matrix with random values from a standard normal distribution\n",
    "np.random.randn(3,4)"
   ]
  },
  {
   "cell_type": "markdown",
   "metadata": {},
   "source": [
    "#### (c). randint\n",
    "\n",
    "The randint() method returns an array of integers in the specified range. The following is the syntax-\n",
    "> np.random.randint(low, high, size), where,\n",
    "* low -> Left limit of the range (inclusive)\n",
    "* high -> Right limit of the range (exclusive)\n",
    "* size -> Shape of the array"
   ]
  },
  {
   "cell_type": "code",
   "execution_count": 20,
   "metadata": {},
   "outputs": [
    {
     "output_type": "execute_result",
     "data": {
      "text/plain": [
       "array([1, 6, 8, 3, 5])"
      ]
     },
     "metadata": {},
     "execution_count": 20
    }
   ],
   "source": [
    "# vector of 5 random integers between 0-10 \n",
    "np.random.randint(0, 10, 5)"
   ]
  },
  {
   "cell_type": "code",
   "execution_count": 21,
   "metadata": {},
   "outputs": [
    {
     "output_type": "execute_result",
     "data": {
      "text/plain": [
       "array([[19, 35, 25, 14],\n",
       "       [27, 38, 16, 44],\n",
       "       [42, 20, 31, 35]])"
      ]
     },
     "metadata": {},
     "execution_count": 21
    }
   ],
   "source": [
    "# matrix of random integers between 10-50 of the shape 3x4\n",
    "np.random.randint(10, 50, (3,4))"
   ]
  },
  {
   "cell_type": "markdown",
   "metadata": {},
   "source": [
    "These were one of the most useful of the Numpy random class. To check for more methods, refer [here](https://docs.scipy.org/doc/numpy-1.14.0/reference/routines.random.html).\n",
    "\n",
    "Now, let us have a look at some of the important array methods in Numpy.\n",
    "\n",
    "### D. Array Attributes and methods\n",
    "---\n",
    "\n",
    "#### (a). reshape\n",
    "The reshape() method is used to, as the name suggest, change the shape of the array. While the data in the array remains the same, we can cast it to a different shape using the reshape method. The following is the syntax-\n",
    "> numpy_arr.reshape(shape), where, \n",
    "* shape -> New shape that you want to cast the array to; tuple\n",
    "\n",
    "One thing to be noted is that the total number of elements in the original array and the dimensions of the new array should be the same.\n"
   ]
  },
  {
   "cell_type": "code",
   "execution_count": 22,
   "metadata": {},
   "outputs": [
    {
     "output_type": "execute_result",
     "data": {
      "text/plain": [
       "array([[ 0,  1,  2,  3,  4],\n",
       "       [ 5,  6,  7,  8,  9],\n",
       "       [10, 11, 12, 13, 14],\n",
       "       [15, 16, 17, 18, 19]])"
      ]
     },
     "metadata": {},
     "execution_count": 22
    }
   ],
   "source": [
    "# creating a new array\n",
    "arr = np.arange(0,20)\n",
    "\n",
    "# reshaping the array\n",
    "arr.reshape((4,5))"
   ]
  },
  {
   "cell_type": "markdown",
   "metadata": {},
   "source": [
    "Now, let see what happens when you enter a reshape size that does not meet the number of elements in the initial array. \n",
    "\n",
    "*__Hint__: We will run into an error!*"
   ]
  },
  {
   "cell_type": "code",
   "execution_count": 23,
   "metadata": {},
   "outputs": [
    {
     "output_type": "error",
     "ename": "ValueError",
     "evalue": "cannot reshape array of size 20 into shape (3,4)",
     "traceback": [
      "\u001b[0;31m---------------------------------------------------------------------------\u001b[0m",
      "\u001b[0;31mValueError\u001b[0m                                Traceback (most recent call last)",
      "\u001b[0;32m<ipython-input-23-bd085951de08>\u001b[0m in \u001b[0;36m<module>\u001b[0;34m\u001b[0m\n\u001b[1;32m      1\u001b[0m \u001b[0;31m# Number of elements in arr = 20\u001b[0m\u001b[0;34m\u001b[0m\u001b[0;34m\u001b[0m\u001b[0;34m\u001b[0m\u001b[0m\n\u001b[1;32m      2\u001b[0m \u001b[0;31m# reshape size = 3,4 -> 3 * 4 = 12\u001b[0m\u001b[0;34m\u001b[0m\u001b[0;34m\u001b[0m\u001b[0;34m\u001b[0m\u001b[0m\n\u001b[0;32m----> 3\u001b[0;31m \u001b[0marr\u001b[0m\u001b[0;34m.\u001b[0m\u001b[0mreshape\u001b[0m\u001b[0;34m(\u001b[0m\u001b[0;36m3\u001b[0m\u001b[0;34m,\u001b[0m\u001b[0;36m4\u001b[0m\u001b[0;34m)\u001b[0m\u001b[0;34m\u001b[0m\u001b[0;34m\u001b[0m\u001b[0m\n\u001b[0m",
      "\u001b[0;31mValueError\u001b[0m: cannot reshape array of size 20 into shape (3,4)"
     ]
    }
   ],
   "source": [
    "# Number of elements in arr = 20\n",
    "# reshape size = 3,4 -> 3 * 4 = 12\n",
    "arr.reshape(3,4)"
   ]
  },
  {
   "cell_type": "markdown",
   "metadata": {},
   "source": [
    "#### (b). max & min\n",
    "\n",
    "As the name suggests, the max() method returns the largest element in the array. The syntax is-\n",
    "> arr.max()\n",
    "\n",
    "The min() method returns the smallest element in the array. The syntax is-\n",
    "> arr.min()"
   ]
  },
  {
   "cell_type": "code",
   "execution_count": 24,
   "metadata": {},
   "outputs": [
    {
     "output_type": "execute_result",
     "data": {
      "text/plain": [
       "8"
      ]
     },
     "metadata": {},
     "execution_count": 24
    }
   ],
   "source": [
    "# getting the largest element\n",
    "arr = np.array([1,5,2,4,8,3])\n",
    "arr.max()"
   ]
  },
  {
   "cell_type": "code",
   "execution_count": 25,
   "metadata": {},
   "outputs": [
    {
     "output_type": "execute_result",
     "data": {
      "text/plain": [
       "1"
      ]
     },
     "metadata": {},
     "execution_count": 25
    }
   ],
   "source": [
    "# getting the smallest element\n",
    "arr = np.array([1,5,2,4,8,3])\n",
    "arr.min()"
   ]
  },
  {
   "cell_type": "markdown",
   "metadata": {},
   "source": [
    "#### (c). argmax & argmin\n",
    "\n",
    "The argmax() method returns the index of the largest element in the array. The syntax is-\n",
    "> arr.argmax()\n",
    "\n",
    "The argmin() method returns the index of the largest element in the array. The syntax is-\n",
    "> arr.argmin()\n"
   ]
  },
  {
   "cell_type": "code",
   "execution_count": 26,
   "metadata": {},
   "outputs": [
    {
     "output_type": "execute_result",
     "data": {
      "text/plain": [
       "3"
      ]
     },
     "metadata": {},
     "execution_count": 26
    }
   ],
   "source": [
    "arr = np.array([6,3,1,9,6,4,5,2,3,9])\n",
    "# getting the index of the largest element in the array\n",
    "arr.argmax()"
   ]
  },
  {
   "cell_type": "code",
   "execution_count": 27,
   "metadata": {},
   "outputs": [
    {
     "output_type": "execute_result",
     "data": {
      "text/plain": [
       "2"
      ]
     },
     "metadata": {},
     "execution_count": 27
    }
   ],
   "source": [
    "# getting the index of the smallest element in the array\n",
    "arr.argmin()"
   ]
  },
  {
   "cell_type": "markdown",
   "metadata": {},
   "source": [
    "#### (d). shape\n",
    "The shape attribute \\[not a method] returns the shape of the array."
   ]
  },
  {
   "cell_type": "code",
   "execution_count": 28,
   "metadata": {},
   "outputs": [
    {
     "output_type": "execute_result",
     "data": {
      "text/plain": [
       "(9,)"
      ]
     },
     "metadata": {},
     "execution_count": 28
    }
   ],
   "source": [
    "# shape of a vector\n",
    "arr = np.array([5,3,1,7,2,4,3,5,9])\n",
    "arr.shape"
   ]
  },
  {
   "cell_type": "code",
   "execution_count": 29,
   "metadata": {},
   "outputs": [
    {
     "output_type": "execute_result",
     "data": {
      "text/plain": [
       "(3, 3)"
      ]
     },
     "metadata": {},
     "execution_count": 29
    }
   ],
   "source": [
    "# shape of a matrix\n",
    "arr = np.array([[1, 2, 3], [4, 5, 6], [7, 8, 9]])\n",
    "arr.shape"
   ]
  },
  {
   "cell_type": "markdown",
   "metadata": {},
   "source": [
    "#### (e). dtype\n",
    "\n",
    "The dtype attribute returns the data type of the elements in the array."
   ]
  },
  {
   "cell_type": "code",
   "execution_count": 30,
   "metadata": {},
   "outputs": [
    {
     "output_type": "execute_result",
     "data": {
      "text/plain": [
       "dtype('<U1')"
      ]
     },
     "metadata": {},
     "execution_count": 30
    }
   ],
   "source": [
    "arr = np.array(['a', 'b', 'c', 'd'])\n",
    "arr.dtype"
   ]
  },
  {
   "cell_type": "code",
   "execution_count": 31,
   "metadata": {},
   "outputs": [
    {
     "output_type": "execute_result",
     "data": {
      "text/plain": [
       "dtype('float64')"
      ]
     },
     "metadata": {},
     "execution_count": 31
    }
   ],
   "source": [
    "arr2 = np.array([1.3, 4.5, 1.7])\n",
    "arr2.dtype"
   ]
  },
  {
   "cell_type": "code",
   "execution_count": 32,
   "metadata": {},
   "outputs": [
    {
     "output_type": "execute_result",
     "data": {
      "text/plain": [
       "dtype('int64')"
      ]
     },
     "metadata": {},
     "execution_count": 32
    }
   ],
   "source": [
    "arr3 = np.array([1, 2, 3, 4, 5])\n",
    "arr3.dtype"
   ]
  },
  {
   "cell_type": "markdown",
   "metadata": {},
   "source": [
    "### C. NumPy Indexing Operations\n",
    "---\n",
    "Now that we know how to create an array, in this section, we will have a look at the different indexing, slicing and selection operations in Numpy. \n",
    "\n",
    "#### (a). Bracket Indexing and Selection\n",
    "\n",
    "Just like Python lists, you can use bracket selection and indexing to select one or more than one elements from a numpy array."
   ]
  },
  {
   "cell_type": "code",
   "execution_count": 33,
   "metadata": {},
   "outputs": [
    {
     "output_type": "execute_result",
     "data": {
      "text/plain": [
       "array([10, 11, 12, 13, 14, 15, 16, 17, 18, 19])"
      ]
     },
     "metadata": {},
     "execution_count": 33
    }
   ],
   "source": [
    "arr = np.arange(10, 20)\n",
    "arr"
   ]
  },
  {
   "cell_type": "code",
   "execution_count": 34,
   "metadata": {},
   "outputs": [
    {
     "output_type": "execute_result",
     "data": {
      "text/plain": [
       "15"
      ]
     },
     "metadata": {},
     "execution_count": 34
    }
   ],
   "source": [
    "# selecting element at a certain index\n",
    "arr[5]"
   ]
  },
  {
   "cell_type": "code",
   "execution_count": 35,
   "metadata": {},
   "outputs": [
    {
     "output_type": "execute_result",
     "data": {
      "text/plain": [
       "array([11, 12, 13, 14, 15])"
      ]
     },
     "metadata": {},
     "execution_count": 35
    }
   ],
   "source": [
    "# selecting a range of elements\n",
    "arr[1:6]"
   ]
  },
  {
   "cell_type": "code",
   "execution_count": 36,
   "metadata": {},
   "outputs": [
    {
     "output_type": "execute_result",
     "data": {
      "text/plain": [
       "array([10, 11, 12, 13, 14, 15, 16, 17])"
      ]
     },
     "metadata": {},
     "execution_count": 36
    }
   ],
   "source": [
    "# selecting a range of elements\n",
    "arr[:8]"
   ]
  },
  {
   "cell_type": "code",
   "execution_count": 37,
   "metadata": {},
   "outputs": [
    {
     "output_type": "execute_result",
     "data": {
      "text/plain": [
       "array([[0.64929634, 0.88757019, 0.72099746, 0.92824813, 0.06852395],\n",
       "       [0.82790835, 0.61992257, 0.87663491, 0.17981447, 0.62324275],\n",
       "       [0.22318656, 0.34921396, 0.97579773, 0.61951198, 0.840482  ],\n",
       "       [0.05077044, 0.39665052, 0.07131009, 0.4904567 , 0.29626973]])"
      ]
     },
     "metadata": {},
     "execution_count": 37
    }
   ],
   "source": [
    "arr2 = np.random.rand(4, 5)\n",
    "arr2"
   ]
  },
  {
   "cell_type": "code",
   "execution_count": 38,
   "metadata": {},
   "outputs": [
    {
     "output_type": "execute_result",
     "data": {
      "text/plain": [
       "array([[0.87663491, 0.17981447],\n",
       "       [0.97579773, 0.61951198]])"
      ]
     },
     "metadata": {},
     "execution_count": 38
    }
   ],
   "source": [
    "# selecting a 2d slice\n",
    "arr2[1:3, 2:4]"
   ]
  },
  {
   "cell_type": "code",
   "execution_count": 39,
   "metadata": {},
   "outputs": [
    {
     "output_type": "execute_result",
     "data": {
      "text/plain": [
       "array([[0.72099746, 0.92824813],\n",
       "       [0.87663491, 0.17981447],\n",
       "       [0.97579773, 0.61951198],\n",
       "       [0.07131009, 0.4904567 ]])"
      ]
     },
     "metadata": {},
     "execution_count": 39
    }
   ],
   "source": [
    "# selecting a all rows but restricting columns\n",
    "arr2[:, 2:4]"
   ]
  },
  {
   "cell_type": "markdown",
   "metadata": {},
   "source": [
    "#### (b). Broadcasting\n",
    "Broadcasting is a unique property of Numpy arrays that sets it apart from how we can use Python lists. "
   ]
  },
  {
   "cell_type": "code",
   "execution_count": 40,
   "metadata": {},
   "outputs": [
    {
     "output_type": "execute_result",
     "data": {
      "text/plain": [
       "array([[88, 71, 68, 98, 78, 68, 32],\n",
       "       [20, 35, 27, 47, 52, 39, 96],\n",
       "       [89, 52, 88, 59, 84, 24, 75],\n",
       "       [65, 40, 38, 80, 78, 78, 89],\n",
       "       [22, 56, 44, 36, 83, 50, 32],\n",
       "       [72, 49, 55, 93, 71, 50, 72]])"
      ]
     },
     "metadata": {},
     "execution_count": 40
    }
   ],
   "source": [
    "arr = np.random.randint(20, 100, (6,7))\n",
    "arr"
   ]
  },
  {
   "cell_type": "code",
   "execution_count": 41,
   "metadata": {},
   "outputs": [
    {
     "output_type": "execute_result",
     "data": {
      "text/plain": [
       "array([[ 0,  0,  0,  0, 78, 68, 32],\n",
       "       [ 0,  0,  0,  0, 52, 39, 96],\n",
       "       [ 0,  0,  0,  0, 84, 24, 75],\n",
       "       [65, 40, 38, 80, 78, 78, 89],\n",
       "       [22, 56, 44, 36, 83, 50, 32],\n",
       "       [72, 49, 55, 93, 71, 50, 72]])"
      ]
     },
     "metadata": {},
     "execution_count": 41
    }
   ],
   "source": [
    "# broadcasting a slice\n",
    "arr[:3, :4] = 0\n",
    "arr"
   ]
  },
  {
   "cell_type": "markdown",
   "metadata": {},
   "source": [
    "**__NOTE__: If you broadcast an array or a slice of an array as another variable, this new variable will not be a different array but actually act as an alias for the original array (or the slice of the original array). This new array will actually be referencing to the old array's location in the storage.*\n",
    "\n",
    "*What this means is that any change in the new array will reflect in old array as well. This is known as the concept of referencing and the idea behind this is to save storage space.*"
   ]
  },
  {
   "cell_type": "code",
   "execution_count": 42,
   "metadata": {},
   "outputs": [
    {
     "output_type": "execute_result",
     "data": {
      "text/plain": [
       "array([10, 11, 12, 13, 14, 15, 16, 17, 18, 19])"
      ]
     },
     "metadata": {},
     "execution_count": 42
    }
   ],
   "source": [
    "# original array\n",
    "arr = np.arange(10, 20)\n",
    "arr"
   ]
  },
  {
   "cell_type": "code",
   "execution_count": 43,
   "metadata": {},
   "outputs": [
    {
     "output_type": "execute_result",
     "data": {
      "text/plain": [
       "array([12, 13])"
      ]
     },
     "metadata": {},
     "execution_count": 43
    }
   ],
   "source": [
    "# referenced array generated from broadcasting\n",
    "ref_arr = arr[2:4]\n",
    "ref_arr "
   ]
  },
  {
   "cell_type": "code",
   "execution_count": 44,
   "metadata": {},
   "outputs": [
    {
     "output_type": "execute_result",
     "data": {
      "text/plain": [
       "array([0, 0])"
      ]
     },
     "metadata": {},
     "execution_count": 44
    }
   ],
   "source": [
    "# broadcasting all values of ref_arr as 0\n",
    "ref_arr[:] = 0\n",
    "ref_arr"
   ]
  },
  {
   "cell_type": "code",
   "execution_count": 45,
   "metadata": {},
   "outputs": [
    {
     "output_type": "execute_result",
     "data": {
      "text/plain": [
       "array([10, 11,  0,  0, 14, 15, 16, 17, 18, 19])"
      ]
     },
     "metadata": {},
     "execution_count": 45
    }
   ],
   "source": [
    "# checking if the values changed in arr as well\n",
    "arr"
   ]
  },
  {
   "cell_type": "markdown",
   "metadata": {},
   "source": [
    "As we can see, the values changed in the old array too. Now, here's how you get a dereferenced copy of a Numpy array.\n",
    "\n",
    "#### (c). copy\n",
    "\n",
    "The copy method allows you create a dereferenced copy of a Numpy array. The syntax is as follows-\n",
    "> new_arr = arr.copy()"
   ]
  },
  {
   "cell_type": "code",
   "execution_count": 46,
   "metadata": {},
   "outputs": [
    {
     "output_type": "execute_result",
     "data": {
      "text/plain": [
       "array([40, 41, 42, 43, 44, 45, 46, 47, 48, 49])"
      ]
     },
     "metadata": {},
     "execution_count": 46
    }
   ],
   "source": [
    "# original array\n",
    "arr = np.arange(40, 50)\n",
    "\n",
    "# dereferenced copy of slice of old array\n",
    "new_arr = arr.copy()\n",
    "\n",
    "# broadcasting values of new_arr\n",
    "new_arr[:] = 0\n",
    "\n",
    "# checking if that changed old arr\n",
    "arr"
   ]
  },
  {
   "cell_type": "markdown",
   "metadata": {},
   "source": [
    "As expected, no change to the old array."
   ]
  },
  {
   "cell_type": "markdown",
   "metadata": {},
   "source": [
    "#### (d). Fancy Indexing\n",
    "Fancy indexing can be a bit confusing as it is not quite \"Pythonic\". Fancy indexing is used to select entire rows of a matrix."
   ]
  },
  {
   "cell_type": "code",
   "execution_count": 47,
   "metadata": {},
   "outputs": [
    {
     "output_type": "execute_result",
     "data": {
      "text/plain": [
       "array([[61, 68, 50, 33, 44, 28],\n",
       "       [98, 21,  3, 53, 72, 57],\n",
       "       [23, 96, 57, 47, 97, 52],\n",
       "       [81, 44, 83, 59, 28, 44],\n",
       "       [10, 93,  5, 99, 20, 15]])"
      ]
     },
     "metadata": {},
     "execution_count": 47
    }
   ],
   "source": [
    "arr = np.random.randint(0, 100, (5,6))\n",
    "arr"
   ]
  },
  {
   "cell_type": "code",
   "execution_count": 48,
   "metadata": {},
   "outputs": [
    {
     "output_type": "execute_result",
     "data": {
      "text/plain": [
       "array([[98, 21,  3, 53, 72, 57]])"
      ]
     },
     "metadata": {},
     "execution_count": 48
    }
   ],
   "source": [
    "# fancy indexing row 1\n",
    "arr[[1]]"
   ]
  },
  {
   "cell_type": "code",
   "execution_count": 49,
   "metadata": {},
   "outputs": [
    {
     "output_type": "execute_result",
     "data": {
      "text/plain": [
       "array([[23, 96, 57, 47, 97, 52],\n",
       "       [81, 44, 83, 59, 28, 44],\n",
       "       [10, 93,  5, 99, 20, 15]])"
      ]
     },
     "metadata": {},
     "execution_count": 49
    }
   ],
   "source": [
    "# fancy indexing row 2,3,4\n",
    "arr[[2,3,4]]"
   ]
  },
  {
   "cell_type": "code",
   "execution_count": 50,
   "metadata": {},
   "outputs": [
    {
     "output_type": "execute_result",
     "data": {
      "text/plain": [
       "array([[10, 93,  5, 99, 20, 15],\n",
       "       [23, 96, 57, 47, 97, 52],\n",
       "       [81, 44, 83, 59, 28, 44]])"
      ]
     },
     "metadata": {},
     "execution_count": 50
    }
   ],
   "source": [
    "# fancy indexing row 4,2,3 (in this exact order)\n",
    "arr[[4,2,3]]"
   ]
  },
  {
   "cell_type": "markdown",
   "metadata": {},
   "source": [
    "### D. NumPy Selection Operation\n",
    "---\n",
    "\n",
    "This is in a way similar to indexing, however you can select rows and columns on the basis of conditions. Let's see how you can do it."
   ]
  },
  {
   "cell_type": "code",
   "execution_count": 51,
   "metadata": {},
   "outputs": [
    {
     "output_type": "execute_result",
     "data": {
      "text/plain": [
       "array([11, 17, 13, 28, 27, 16,  3, 24, 49, 33])"
      ]
     },
     "metadata": {},
     "execution_count": 51
    }
   ],
   "source": [
    "arr = np.random.randint(0, 50, (10,))\n",
    "arr"
   ]
  },
  {
   "cell_type": "code",
   "execution_count": 52,
   "metadata": {},
   "outputs": [
    {
     "output_type": "execute_result",
     "data": {
      "text/plain": [
       "array([False,  True, False,  True,  True,  True, False,  True,  True,\n",
       "        True])"
      ]
     },
     "metadata": {},
     "execution_count": 52
    }
   ],
   "source": [
    "# checks if value at each index is > 15\n",
    "arr > 15"
   ]
  },
  {
   "cell_type": "code",
   "execution_count": 53,
   "metadata": {},
   "outputs": [
    {
     "output_type": "execute_result",
     "data": {
      "text/plain": [
       "array([17, 28, 27, 16, 24, 49, 33])"
      ]
     },
     "metadata": {},
     "execution_count": 53
    }
   ],
   "source": [
    "# selection on the basis of condition\n",
    "arr[arr > 15]"
   ]
  },
  {
   "cell_type": "markdown",
   "metadata": {},
   "source": [
    "Now, let us have a look at the arithmetic operations that you can perform using  Numpy.\n",
    "\n",
    "### E. Arithmetic Operations\n",
    "---\n",
    "\n",
    "#### (a). add, subtract, multiply, divide, exponentiation\n",
    "> * Addition: arr1 + arr2\n",
    "\n",
    "> * Subtraction: arr1 - arr2\n",
    "\n",
    "> * Multiplication: arr1 * arr2\n",
    "\n",
    "> * Division: arr1 / arr2\n",
    "\n",
    "> * Exponentiation: arr ** n, where n is an number"
   ]
  },
  {
   "cell_type": "code",
   "execution_count": 54,
   "metadata": {
    "tags": []
   },
   "outputs": [
    {
     "output_type": "stream",
     "name": "stdout",
     "text": [
      "[0 1 2 3 4 5 6 7 8 9]\n[1. 1. 1. 1. 1. 1. 1. 1. 1. 1.]\n[1. 1. 1. 1. 1.]\n"
     ]
    }
   ],
   "source": [
    "arr1 = np.arange(10)\n",
    "print(arr1)\n",
    "arr2 = np.ones(10)\n",
    "print(arr2)\n",
    "arr3 = np.ones(5)\n",
    "print(arr3)"
   ]
  },
  {
   "cell_type": "code",
   "execution_count": 55,
   "metadata": {
    "tags": []
   },
   "outputs": [
    {
     "output_type": "stream",
     "name": "stdout",
     "text": [
      "[ 1.  2.  3.  4.  5.  6.  7.  8.  9. 10.]\n"
     ]
    },
    {
     "output_type": "error",
     "ename": "ValueError",
     "evalue": "operands could not be broadcast together with shapes (10,) (5,) ",
     "traceback": [
      "\u001b[0;31m---------------------------------------------------------------------------\u001b[0m",
      "\u001b[0;31mValueError\u001b[0m                                Traceback (most recent call last)",
      "\u001b[0;32m<ipython-input-55-77e2df80c772>\u001b[0m in \u001b[0;36m<module>\u001b[0;34m\u001b[0m\n\u001b[1;32m      3\u001b[0m \u001b[0;34m\u001b[0m\u001b[0m\n\u001b[1;32m      4\u001b[0m \u001b[0;31m# will throw an error as the arrays have to be the same shape\u001b[0m\u001b[0;34m\u001b[0m\u001b[0;34m\u001b[0m\u001b[0;34m\u001b[0m\u001b[0m\n\u001b[0;32m----> 5\u001b[0;31m \u001b[0mprint\u001b[0m\u001b[0;34m(\u001b[0m\u001b[0marr1\u001b[0m \u001b[0;34m+\u001b[0m \u001b[0marr3\u001b[0m\u001b[0;34m)\u001b[0m\u001b[0;34m\u001b[0m\u001b[0;34m\u001b[0m\u001b[0m\n\u001b[0m",
      "\u001b[0;31mValueError\u001b[0m: operands could not be broadcast together with shapes (10,) (5,) "
     ]
    }
   ],
   "source": [
    "# addition\n",
    "print(arr1 + arr2)\n",
    "\n",
    "# will throw an error as the arrays have to be the same shape\n",
    "print(arr1 + arr3)"
   ]
  },
  {
   "cell_type": "code",
   "execution_count": 56,
   "metadata": {},
   "outputs": [
    {
     "output_type": "execute_result",
     "data": {
      "text/plain": [
       "array([-1.,  0.,  1.,  2.,  3.,  4.,  5.,  6.,  7.,  8.])"
      ]
     },
     "metadata": {},
     "execution_count": 56
    }
   ],
   "source": [
    "# subtraction\n",
    "arr1 - arr2"
   ]
  },
  {
   "cell_type": "code",
   "execution_count": 57,
   "metadata": {},
   "outputs": [
    {
     "output_type": "execute_result",
     "data": {
      "text/plain": [
       "array([ 0,  1,  4,  9, 16, 25, 36, 49, 64, 81])"
      ]
     },
     "metadata": {},
     "execution_count": 57
    }
   ],
   "source": [
    "# multiplication\n",
    "arr1 * arr1"
   ]
  },
  {
   "cell_type": "code",
   "execution_count": 58,
   "metadata": {
    "tags": []
   },
   "outputs": [
    {
     "output_type": "stream",
     "name": "stdout",
     "text": [
      "[0.  0.5 1.  1.5 2.  2.5 3.  3.5 4.  4.5]\n[nan  1.  1.  1.  1.  1.  1.  1.  1.  1.]\n"
     ]
    }
   ],
   "source": [
    "# division\n",
    "print(arr1 / 2)\n",
    "\n",
    "# 0's division by 0 will give nan (not a number) value\n",
    "print(arr1 / arr1)"
   ]
  },
  {
   "cell_type": "code",
   "execution_count": 59,
   "metadata": {
    "tags": []
   },
   "outputs": [
    {
     "output_type": "stream",
     "name": "stdout",
     "text": [
      "[ 0  1  4  9 16 25 36 49 64 81]\n[0.00000000e+00 1.00000000e+00 9.18958684e+00 3.36347354e+01\n 8.44485063e+01 1.72466208e+02 3.09089322e+02 5.06190194e+02\n 7.76046882e+02 1.13129542e+03]\n"
     ]
    }
   ],
   "source": [
    "# exponentiation\n",
    "print(arr1 ** 2)\n",
    "print(arr1 ** 3.2)"
   ]
  },
  {
   "cell_type": "markdown",
   "metadata": {},
   "source": [
    "#### (b). sqrt method\n",
    "\n",
    "The sqrt method returns square root of each element in the array. The syntax is-\n",
    "> np.sqrt(arr)"
   ]
  },
  {
   "cell_type": "code",
   "execution_count": 60,
   "metadata": {},
   "outputs": [
    {
     "output_type": "execute_result",
     "data": {
      "text/plain": [
       "array([0.        , 1.        , 1.41421356, 1.73205081, 2.        ,\n",
       "       2.23606798, 2.44948974, 2.64575131, 2.82842712, 3.        ])"
      ]
     },
     "metadata": {},
     "execution_count": 60
    }
   ],
   "source": [
    "np.sqrt(arr1)"
   ]
  },
  {
   "cell_type": "markdown",
   "metadata": {},
   "source": [
    "#### (c). exp method\n",
    "\n",
    "The exp method exponentiates (e<sup>n</sup>) each element in the array. The syntax is-\n",
    "> np.exp(arr)"
   ]
  },
  {
   "cell_type": "code",
   "execution_count": 61,
   "metadata": {},
   "outputs": [
    {
     "output_type": "execute_result",
     "data": {
      "text/plain": [
       "array([1.00000000e+00, 2.71828183e+00, 7.38905610e+00, 2.00855369e+01,\n",
       "       5.45981500e+01, 1.48413159e+02, 4.03428793e+02, 1.09663316e+03,\n",
       "       2.98095799e+03, 8.10308393e+03])"
      ]
     },
     "metadata": {},
     "execution_count": 61
    }
   ],
   "source": [
    "np.exp(arr1)"
   ]
  },
  {
   "cell_type": "markdown",
   "metadata": {},
   "source": [
    "#### (d). sin method\n",
    "\n",
    "The sin method returns sine of each element (sin(n)) in the array. The syntax is-\n",
    "> np.sin(arr)"
   ]
  },
  {
   "cell_type": "code",
   "execution_count": 62,
   "metadata": {},
   "outputs": [
    {
     "output_type": "execute_result",
     "data": {
      "text/plain": [
       "array([ 0.        ,  0.84147098,  0.90929743,  0.14112001, -0.7568025 ,\n",
       "       -0.95892427, -0.2794155 ,  0.6569866 ,  0.98935825,  0.41211849])"
      ]
     },
     "metadata": {},
     "execution_count": 62
    }
   ],
   "source": [
    "np.sin(arr1)"
   ]
  },
  {
   "cell_type": "markdown",
   "metadata": {},
   "source": [
    "#### (d). log method\n",
    "\n",
    "The log method returns logarithm of each element (log(n)) in the array. The syntax is-\n",
    "> np.log(arr)"
   ]
  },
  {
   "cell_type": "code",
   "execution_count": 63,
   "metadata": {},
   "outputs": [
    {
     "output_type": "execute_result",
     "data": {
      "text/plain": [
       "array([      -inf, 0.        , 0.69314718, 1.09861229, 1.38629436,\n",
       "       1.60943791, 1.79175947, 1.94591015, 2.07944154, 2.19722458])"
      ]
     },
     "metadata": {},
     "execution_count": 63
    }
   ],
   "source": [
    "np.log(arr1)"
   ]
  },
  {
   "cell_type": "markdown",
   "metadata": {},
   "source": [
    "With this, we come to the end of our NumPy tutorial, where we have covered almost all the basic Numpy array methods. In the future tutorials, if we come across a new method, you will be given a tutorial for that. For now, go throught the notebook again before moving on to the quiz. "
   ]
  }
 ]
}